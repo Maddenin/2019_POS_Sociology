{
 "cells": [
  {
   "cell_type": "markdown",
   "metadata": {
    "colab_type": "text",
    "id": "0fcgHX_h2SEv"
   },
   "source": [
    "# Самостоятельная №2"
   ]
  },
  {
   "cell_type": "markdown",
   "metadata": {
    "colab_type": "text",
    "id": "ZN14oLHV3jdh"
   },
   "source": [
    "**Списывание и использование телефонов**\n",
    "\n",
    "Первое предупреждение, сделанное ассистентом или преподавателем: - 1 балл к вашей оценке. \n",
    "\n",
    "Второе предупреждение: работа аннулируется без права переписывания."
   ]
  },
  {
   "cell_type": "markdown",
   "metadata": {
    "colab_type": "text",
    "id": "f8TCj5_o2iN0"
   },
   "source": [
    "0. **Оформление и стиль (0.5 балла).**\n",
    "\n",
    "Этот балл у вас есть по умолчанию при условии сданной работы с решенными задачами. \n",
    "\n",
    "За каждый тип повторяющейся стилистической ошибки снимается 0.25 балла Повторяющейся считаем ошибку, допущенную минимум 2 раза.\n",
    "\n",
    "0.25 балла снимается за каждые 4 не систематические ошибки (4 разных ошибки, допущенных по одному разу.)\n",
    "\n",
    "Все задачи должны принимать значения на ввод (решение для частного случая будет считаться неполным)."
   ]
  },
  {
   "cell_type": "markdown",
   "metadata": {
    "colab_type": "text",
    "id": "hhFhOAbR2SEz"
   },
   "source": [
    "1. **Тест (1 балл) Каждый вопрос 0.1 балла**\n",
    "        1. s='safety'\n",
    "           print(s[2:5])\n",
    "           Что будет выведено на экран?\n",
    "        2. За что отвечает функция replace и ее аргументы а, b, c, если s.replace(a,b, с) \n",
    "        3. По какой команде прерывается выполнение функции?\n",
    "           a)end\n",
    "           b)break\n",
    "           c)return\n",
    "        4. Укажите, какая из переменных в приведенном коде локальная, а какая глобальная, а также напишите, что выведет код?\n",
    "           def f():\n",
    "              a = 1\n",
    "              print(a)\n",
    "           a2 = 0\n",
    "           f()\n",
    "           print(a2)\n",
    "        5. Какая (какие) последовательность является неизменной?\n",
    "           а)список\n",
    "           b)кортеж\n",
    "           c)строка\n",
    "           d)ни одна из указанных\n",
    "        6. Запишите результат кода?\n",
    "           for i in range (8):\n",
    "                   print(i)\n",
    "        7. Что выведет код?\n",
    "           a='117a8w9102bw3waww'\n",
    "           print(a.rfind('w'))\n",
    "            a)16\n",
    "            b)17 \n",
    "            c)5\n",
    "        8. Сопоставьте литералы пустой последовательности с типом последовательности\n",
    "           a)строка        1)()\n",
    "           b)список        2)''  \n",
    "           c)кортеж        3)[]\n",
    "        9. За что отвечает функция len()?\n",
    "        10.Cопоставьте функции округления тем, как оно производится\n",
    "            a)int          1)округляет в сторону нуля\n",
    "            b)floor        2)округляет в меньшую сторону\n",
    "            c)ceil         3)округляет в большую сторону   \n"
   ]
  },
  {
   "cell_type": "markdown",
   "metadata": {
    "colab_type": "text",
    "id": "zMu3GU5S2SE0"
   },
   "source": [
    "**Здесь нужно написать ответ на задание №1**"
   ]
  },
  {
   "cell_type": "code",
   "execution_count": 1,
   "metadata": {
    "colab": {},
    "colab_type": "code",
    "id": "lZ74_yYe6Qik"
   },
   "outputs": [
    {
     "data": {
      "text/plain": [
       "'\\nНапишите в комментариях ответы. Одна строка - один ответ.\\n1. fet\\n2. просим заменить a на b, с - число вхождений в строку\\n3. c\\n4. a-локальная\\n   a2-глобальная\\n   1\\n   0\\n5. bc\\n6. 0\\n   1\\n   2\\n   3\\n   4\\n   5\\n   6\\n   7\\n7. a\\n8. a2,b3,c1\\n9. возвращает длину последовательности\\n10. a1,b2,c3\\n'"
      ]
     },
     "execution_count": 1,
     "metadata": {},
     "output_type": "execute_result"
    }
   ],
   "source": [
    "'''\n",
    "Напишите в комментариях ответы. Одна строка - один ответ.\n",
    "1. fet\n",
    "2. просим заменить a на b, с - число вхождений в строку\n",
    "3. c\n",
    "4. a-локальная\n",
    "   a2-глобальная\n",
    "   1\n",
    "   0\n",
    "5. bc\n",
    "6. 0\n",
    "   1\n",
    "   2\n",
    "   3\n",
    "   4\n",
    "   5\n",
    "   6\n",
    "   7\n",
    "7. a\n",
    "8. a2,b3,c1\n",
    "9. возвращает длину последовательности\n",
    "10. a1,b2,c3\n",
    "''' \n"
   ]
  },
  {
   "cell_type": "markdown",
   "metadata": {
    "colab_type": "text",
    "id": "n1zNgnTw2SE1"
   },
   "source": [
    "2. **(1 балл) Возрастает ли список?**\n",
    "\n",
    "Дан список. Определите, является ли он монотонно возрастающим(то есть верно ли, что каждый элемент этого списка больше предыдущего).\n",
    "\n",
    "**Ввод программы:** На вход программа получает список (вводится с клавиатуры).  \n",
    "**Вывод программы:**  YES, если массив монотонно возрастает и NO в противном случае.\n"
   ]
  },
  {
   "cell_type": "code",
   "execution_count": null,
   "metadata": {
    "colab": {},
    "colab_type": "code",
    "id": "Is01f3k12SE5"
   },
   "outputs": [],
   "source": [
    "a=list(map(int,input().split()))\n",
    "b=a[0]\n",
    "c=0\n",
    "for i in range (1,len(a)):\n",
    "    if a[i]<b:\n",
    "        c+=1\n",
    "    b=a[i]\n",
    "if b==len(a):\n",
    "    print('YES')\n",
    "else:\n",
    "    print('NO')"
   ]
  },
  {
   "cell_type": "markdown",
   "metadata": {
    "colab_type": "text",
    "id": "jELXD9Kl2SFG"
   },
   "source": [
    "3. **(1,5 балла) Количество особых элементов**\n",
    "\n",
    "Напишите программу для подсчета количества строк, длина которых равна 2 или более, а первый и последний символы совпадают из заданного списка строк. \n",
    "\n",
    "**Ввод:** На вход программа получает список строк (вводится с клавиатуры).\n",
    "\n",
    "**Вывод:** Программа должна вывести число подходящих элементов.\n",
    "\n",
    "**Пример**\n",
    "\n",
    "**Ввод:**\n",
    "\n",
    "abc xyz aba 1221\n",
    "\n",
    "**Вывод:** \n",
    "\n",
    "2\n"
   ]
  },
  {
   "cell_type": "code",
   "execution_count": null,
   "metadata": {
    "colab": {},
    "colab_type": "code",
    "id": "KrD8cdim2SFM"
   },
   "outputs": [],
   "source": [
    "a = list(map(str, input().split()))\n",
    "c = 0\n",
    "for i in range (len(a)):\n",
    "    if len(a[i]) >= 2 and a[i][0] == a[i][-1]:\n",
    "        c+=1\n",
    "print (c)"
   ]
  },
  {
   "cell_type": "markdown",
   "metadata": {
    "colab_type": "text",
    "id": "htWuUj1J2SFS"
   },
   "source": [
    "4. **(0.5 балла) Удаление элементов**\n",
    "\n",
    "Напишите программу для печати указанного списка после удаления 1-го, 5-го и 6-го элементов.\n",
    "\n",
    "**Пример**  \n",
    "**Ввод:**  \n",
    "Red Green White Black Pink Yellow\n",
    "\n",
    "\n",
    "**Вывод:**  \n",
    "['Green', 'White', 'Black']"
   ]
  },
  {
   "cell_type": "code",
   "execution_count": null,
   "metadata": {
    "colab": {},
    "colab_type": "code",
    "id": "BVuy2pSd2SFT"
   },
   "outputs": [],
   "source": [
    "a=list(input().split())\n",
    "del a[0],a[3],a[3]\n",
    "print(*a)"
   ]
  },
  {
   "cell_type": "markdown",
   "metadata": {
    "colab_type": "text",
    "id": "PRZwpalY2SFX"
   },
   "source": [
    "5. **(2,5 балла) Уникальные слова**\n",
    "\n",
    "Вводится нормализованный текст, который кроме слов может содержать определенные знаки препинания. Программа строит множество уникальных слов, знаки препинания исключаются\n",
    "\n",
    "**Ввод:** Текст\n",
    "\n",
    "**Вывод:** Список уникальных слов текста.\n",
    "\n",
    "**Пример **  \n",
    "\n",
    "**Ввод**  \t\n",
    "  Задумывались ли вы когда-нибудь о собственной игре? А о собственной многопользовательской игре? \n",
    "\n",
    "**Вывод**  \n",
    "  Задумывались вы собственной игре ли о А когда-нибудь многопользовательской"
   ]
  },
  {
   "cell_type": "code",
   "execution_count": null,
   "metadata": {
    "colab": {},
    "colab_type": "code",
    "id": "6PiQyxPa2SFg"
   },
   "outputs": [],
   "source": [
    "string = input(\"Write down or insert some text:\\n\")\n",
    "\n",
    "punctuation = ['.',',',':',';','!','?','(',')','-']\n",
    "\n",
    "wordList = string.split()\n",
    "\n",
    "i = 0\n",
    "for word in wordList:\n",
    "    if word[-1] in punctuation:\n",
    "        wordList[i] = word[:-1]\n",
    "        word = wordList[i]\n",
    "    if word[0] in punctuation:\n",
    "        wordList[i] = word[1:]\n",
    "    i += 1\n",
    "print(*set(wordList))"
   ]
  },
  {
   "cell_type": "markdown",
   "metadata": {
    "colab_type": "text",
    "id": "ZdsljjZ62SFm"
   },
   "source": [
    "6. **(1 балл) Потерянная карточка** \n",
    "\n",
    "Для настольной игры используются карточки с номерами от 1 до N. Одна карточка потерялась. Найдите ее, зная номера оставшихся карточек.\n",
    "\n",
    "**Ввод:** Дано число N, далее N − 1 номер оставшихся карточек (различные числа от 1 до N)\n",
    "\n",
    "**Вывод:** Программа должна вывести номер потерянной карточки"
   ]
  },
  {
   "cell_type": "code",
   "execution_count": null,
   "metadata": {
    "colab": {},
    "colab_type": "code",
    "id": "TLX779t52SFn"
   },
   "outputs": [],
   "source": [
    "n=int(input())\n",
    "k=0\n",
    "summ=0\n",
    "for i in range (1,n+1):\n",
    "    summ+=i\n",
    "for i in range (n-1):\n",
    "    k=int(input())\n",
    "    summ-=k\n",
    "print(summ)"
   ]
  },
  {
   "cell_type": "markdown",
   "metadata": {
    "colab_type": "text",
    "id": "zmwYSx4_2SGD"
   },
   "source": [
    "#### 7. **(2 балла) Числа Фибоначчи**\n",
    "\n",
    "Дана последовательность, где каждое последующее число равно сумме двух предыдущих (числа Фибоначчи):\n",
    "1,1,2,3,5,8...\n",
    "Напишите функцию, которая выводит n-ое число данной последовательности. Примечание: в данной задаче нельзя использовать циклы.\n",
    "\n",
    "**Пример 1**  \n",
    "\n",
    "**Ввод:**  \n",
    "4\n",
    "\n",
    "**Вывод:**  \n",
    "3\n",
    "\n",
    "**Пример 2**  \n",
    "\n",
    "**Ввод:**  \n",
    "1  \n",
    "**Ввод:**  \n",
    "1  "
   ]
  },
  {
   "cell_type": "code",
   "execution_count": null,
   "metadata": {
    "colab": {},
    "colab_type": "code",
    "id": "GNWfXgsR2SGE"
   },
   "outputs": [],
   "source": [
    "def fib(n):\n",
    "    if n == 1 or n == 2:\n",
    "        return 1\n",
    "    else:\n",
    "        return fib(n - 1) + fib(n - 2)\n",
    "print(fib(int(input())))"
   ]
  },
  {
   "cell_type": "code",
   "execution_count": null,
   "metadata": {},
   "outputs": [],
   "source": []
  }
 ],
 "metadata": {
  "colab": {
   "collapsed_sections": [],
   "name": "READY_185_186_1_СР.ipynb",
   "provenance": [],
   "version": "0.3.2"
  },
  "kernelspec": {
   "display_name": "Python 3",
   "language": "python",
   "name": "python3"
  },
  "language_info": {
   "codemirror_mode": {
    "name": "ipython",
    "version": 3
   },
   "file_extension": ".py",
   "mimetype": "text/x-python",
   "name": "python",
   "nbconvert_exporter": "python",
   "pygments_lexer": "ipython3",
   "version": "3.6.5"
  }
 },
 "nbformat": 4,
 "nbformat_minor": 1
}
