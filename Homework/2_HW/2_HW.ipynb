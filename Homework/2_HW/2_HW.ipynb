{
  "nbformat": 4,
  "nbformat_minor": 0,
  "metadata": {
    "colab": {
      "name": "HW 2.ipynb",
      "version": "0.3.2",
      "provenance": []
    },
    "language_info": {
      "codemirror_mode": {
        "name": "ipython",
        "version": 3
      },
      "file_extension": ".py",
      "mimetype": "text/x-python",
      "name": "python",
      "nbconvert_exporter": "python",
      "pygments_lexer": "ipython3",
      "version": "3.6.3"
    },
    "kernelspec": {
      "display_name": "Python 3",
      "language": "python",
      "name": "python3"
    }
  },
  "cells": [
    {
      "cell_type": "code",
      "metadata": {
        "id": "_HNDttaRjxXY",
        "colab_type": "code",
        "colab": {}
      },
      "source": [
        "import pandas as pd\n",
        "%matplotlib inline\n",
        "import seaborn as sns\n",
        "from scipy.stats import norm"
      ],
      "execution_count": 0,
      "outputs": []
    },
    {
      "cell_type": "markdown",
      "metadata": {
        "id": "FuJKWXhejxXb",
        "colab_type": "text"
      },
      "source": [
        "Будем работать с датасетом Pima Indian Diabetes - это набор данных из Национального института диабета, болезней органов пищеварения и почек. Целью набора данных является диагностическое прогнозирование наличия диабета у пациента. Несколько ограничений были наложены на выбор этих экземпляров из большой базы данных. В частности, все пациенты здесь - женщины в возрасте от 21 года, индийского происхождения."
      ]
    },
    {
      "cell_type": "code",
      "metadata": {
        "id": "sTpCO57YjxXb",
        "colab_type": "code",
        "outputId": "14b3949d-0b6c-45a2-b3c2-f3616c700cb8",
        "colab": {}
      },
      "source": [
        "data = pd.read_csv('pima-indians-diabetes.csv')\n",
        "data.head(10)"
      ],
      "execution_count": 0,
      "outputs": [
        {
          "output_type": "execute_result",
          "data": {
            "text/html": [
              "<div>\n",
              "<style scoped>\n",
              "    .dataframe tbody tr th:only-of-type {\n",
              "        vertical-align: middle;\n",
              "    }\n",
              "\n",
              "    .dataframe tbody tr th {\n",
              "        vertical-align: top;\n",
              "    }\n",
              "\n",
              "    .dataframe thead th {\n",
              "        text-align: right;\n",
              "    }\n",
              "</style>\n",
              "<table border=\"1\" class=\"dataframe\">\n",
              "  <thead>\n",
              "    <tr style=\"text-align: right;\">\n",
              "      <th></th>\n",
              "      <th>Pregnancies</th>\n",
              "      <th>Glucose</th>\n",
              "      <th>BloodPressure</th>\n",
              "      <th>SkinThickness</th>\n",
              "      <th>Insulin</th>\n",
              "      <th>BMI</th>\n",
              "      <th>DiabetesPedigreeFunction</th>\n",
              "      <th>Age</th>\n",
              "      <th>Class</th>\n",
              "    </tr>\n",
              "  </thead>\n",
              "  <tbody>\n",
              "    <tr>\n",
              "      <th>0</th>\n",
              "      <td>6</td>\n",
              "      <td>148.0</td>\n",
              "      <td>72.0</td>\n",
              "      <td>35.0</td>\n",
              "      <td>NaN</td>\n",
              "      <td>33.6</td>\n",
              "      <td>0.627</td>\n",
              "      <td>50</td>\n",
              "      <td>1</td>\n",
              "    </tr>\n",
              "    <tr>\n",
              "      <th>1</th>\n",
              "      <td>1</td>\n",
              "      <td>85.0</td>\n",
              "      <td>66.0</td>\n",
              "      <td>29.0</td>\n",
              "      <td>NaN</td>\n",
              "      <td>26.6</td>\n",
              "      <td>0.351</td>\n",
              "      <td>31</td>\n",
              "      <td>0</td>\n",
              "    </tr>\n",
              "    <tr>\n",
              "      <th>2</th>\n",
              "      <td>8</td>\n",
              "      <td>183.0</td>\n",
              "      <td>64.0</td>\n",
              "      <td>NaN</td>\n",
              "      <td>NaN</td>\n",
              "      <td>23.3</td>\n",
              "      <td>0.672</td>\n",
              "      <td>32</td>\n",
              "      <td>1</td>\n",
              "    </tr>\n",
              "    <tr>\n",
              "      <th>3</th>\n",
              "      <td>1</td>\n",
              "      <td>89.0</td>\n",
              "      <td>66.0</td>\n",
              "      <td>23.0</td>\n",
              "      <td>94.0</td>\n",
              "      <td>28.1</td>\n",
              "      <td>0.167</td>\n",
              "      <td>21</td>\n",
              "      <td>0</td>\n",
              "    </tr>\n",
              "    <tr>\n",
              "      <th>4</th>\n",
              "      <td>0</td>\n",
              "      <td>137.0</td>\n",
              "      <td>40.0</td>\n",
              "      <td>35.0</td>\n",
              "      <td>168.0</td>\n",
              "      <td>43.1</td>\n",
              "      <td>2.288</td>\n",
              "      <td>33</td>\n",
              "      <td>1</td>\n",
              "    </tr>\n",
              "    <tr>\n",
              "      <th>5</th>\n",
              "      <td>5</td>\n",
              "      <td>116.0</td>\n",
              "      <td>74.0</td>\n",
              "      <td>NaN</td>\n",
              "      <td>NaN</td>\n",
              "      <td>25.6</td>\n",
              "      <td>0.201</td>\n",
              "      <td>30</td>\n",
              "      <td>0</td>\n",
              "    </tr>\n",
              "    <tr>\n",
              "      <th>6</th>\n",
              "      <td>3</td>\n",
              "      <td>78.0</td>\n",
              "      <td>50.0</td>\n",
              "      <td>32.0</td>\n",
              "      <td>88.0</td>\n",
              "      <td>31.0</td>\n",
              "      <td>0.248</td>\n",
              "      <td>26</td>\n",
              "      <td>1</td>\n",
              "    </tr>\n",
              "    <tr>\n",
              "      <th>7</th>\n",
              "      <td>10</td>\n",
              "      <td>115.0</td>\n",
              "      <td>NaN</td>\n",
              "      <td>NaN</td>\n",
              "      <td>NaN</td>\n",
              "      <td>35.3</td>\n",
              "      <td>0.134</td>\n",
              "      <td>29</td>\n",
              "      <td>0</td>\n",
              "    </tr>\n",
              "    <tr>\n",
              "      <th>8</th>\n",
              "      <td>2</td>\n",
              "      <td>197.0</td>\n",
              "      <td>70.0</td>\n",
              "      <td>45.0</td>\n",
              "      <td>543.0</td>\n",
              "      <td>30.5</td>\n",
              "      <td>0.158</td>\n",
              "      <td>53</td>\n",
              "      <td>1</td>\n",
              "    </tr>\n",
              "    <tr>\n",
              "      <th>9</th>\n",
              "      <td>8</td>\n",
              "      <td>125.0</td>\n",
              "      <td>96.0</td>\n",
              "      <td>NaN</td>\n",
              "      <td>NaN</td>\n",
              "      <td>NaN</td>\n",
              "      <td>0.232</td>\n",
              "      <td>54</td>\n",
              "      <td>1</td>\n",
              "    </tr>\n",
              "  </tbody>\n",
              "</table>\n",
              "</div>"
            ],
            "text/plain": [
              "   Pregnancies  Glucose  BloodPressure  SkinThickness  Insulin   BMI  \\\n",
              "0            6    148.0           72.0           35.0      NaN  33.6   \n",
              "1            1     85.0           66.0           29.0      NaN  26.6   \n",
              "2            8    183.0           64.0            NaN      NaN  23.3   \n",
              "3            1     89.0           66.0           23.0     94.0  28.1   \n",
              "4            0    137.0           40.0           35.0    168.0  43.1   \n",
              "5            5    116.0           74.0            NaN      NaN  25.6   \n",
              "6            3     78.0           50.0           32.0     88.0  31.0   \n",
              "7           10    115.0            NaN            NaN      NaN  35.3   \n",
              "8            2    197.0           70.0           45.0    543.0  30.5   \n",
              "9            8    125.0           96.0            NaN      NaN   NaN   \n",
              "\n",
              "   DiabetesPedigreeFunction  Age  Class  \n",
              "0                     0.627   50      1  \n",
              "1                     0.351   31      0  \n",
              "2                     0.672   32      1  \n",
              "3                     0.167   21      0  \n",
              "4                     2.288   33      1  \n",
              "5                     0.201   30      0  \n",
              "6                     0.248   26      1  \n",
              "7                     0.134   29      0  \n",
              "8                     0.158   53      1  \n",
              "9                     0.232   54      1  "
            ]
          },
          "metadata": {
            "tags": []
          },
          "execution_count": 20
        }
      ]
    },
    {
      "cell_type": "markdown",
      "metadata": {
        "id": "2XR6YIKGjxXf",
        "colab_type": "text"
      },
      "source": [
        "Описание данных:\n",
        "\n",
        "- __Pregnancies__ - данная единица отображает количество беременностей, единицы измерения - целые числа от 0 до N. Тип переменной - количественная, дискретная.\n",
        "- __Glucose__ - данная единица отображает уровень глюкозы в крови, единицы измерения - целые числа. Тип переменной - количественная, дискретная.\n",
        "- __BloodPressure__ - данная единица отображает артериальное давление, единицы измерения - миллиметры р/с, целые числа. Тип переменной - количественная, дискретная.\n",
        "- __SkinThickness__ - данная единица отображает обхват трицепса в миллиметрах, целые числа. Тип переменной - количественная, дискретная.\n",
        "- __Insulin__ - данная единица отображает уровень инсулина в крови, целые числа. Тип переменной - количественная, дискретная.\n",
        "- __BMI__ - данная единица отображает индекс массы тела. Тип переменной - количественная, непрерывная.\n",
        "- __DiabetesPedigreeFunction__ - данная единица отображает риск наследственного диабета в зависимости наличия диабета у родственников. Выражается десятичной дробью от 0 до 1. Тип переменной - количественная, непрерывная.\n",
        "- __Age__ - данная единица отражает возраст в целых числах. Тип переменной - количественная, дискретная.\n",
        "- __Class__ - данная единица отражает наличие диабета у субъекта, выражена 0(здоров) или 1(болен). Тип переменной - категориальная, бинарная."
      ]
    },
    {
      "cell_type": "markdown",
      "metadata": {
        "id": "x0CsPO-4jxXg",
        "colab_type": "text"
      },
      "source": [
        "__Задание 1. (0.5 балла)__\n",
        "\n",
        "Как вы видите, в данных много пропусков (NaN). Посчитайте количество пропусков в каждом из столбцов."
      ]
    },
    {
      "cell_type": "code",
      "metadata": {
        "id": "YM7mBdi_jxXh",
        "colab_type": "code",
        "colab": {}
      },
      "source": [
        "# ( ͡° ͜ʖ ͡°)づ ━━ ✫・*。"
      ],
      "execution_count": 0,
      "outputs": []
    },
    {
      "cell_type": "markdown",
      "metadata": {
        "id": "Q-S71t5rjxXj",
        "colab_type": "text"
      },
      "source": [
        "__Задание 2. (1 балл)__\n",
        "\n",
        "Замените все пропуски дискретных признаков соответствующими медианами, непрерывных признаков - средними значениями."
      ]
    },
    {
      "cell_type": "code",
      "metadata": {
        "id": "X6sFZJ_FjxXj",
        "colab_type": "code",
        "colab": {}
      },
      "source": [
        "# ( ͡° ͜ʖ ͡°)づ ━━ ✫・*。"
      ],
      "execution_count": 0,
      "outputs": []
    },
    {
      "cell_type": "markdown",
      "metadata": {
        "id": "KPgh0pgojxXl",
        "colab_type": "text"
      },
      "source": [
        "__Задание 3. (1 балл)__\n",
        "\n",
        "Вычислите основные статистики (минимум, максимум, среднее, дисперсию, квантили) для всех столбцов."
      ]
    },
    {
      "cell_type": "code",
      "metadata": {
        "id": "lBg_Pnt0jxXl",
        "colab_type": "code",
        "colab": {}
      },
      "source": [
        "# ( ͡° ͜ʖ ͡°)づ ━━ ✫・*。"
      ],
      "execution_count": 0,
      "outputs": []
    },
    {
      "cell_type": "markdown",
      "metadata": {
        "id": "SE52n_IZjxXn",
        "colab_type": "text"
      },
      "source": [
        "__Задание 4. (0.5 балла)__\n",
        "\n",
        "У скольких женщин старше 50 лет обнаружен диабет?"
      ]
    },
    {
      "cell_type": "code",
      "metadata": {
        "id": "nbypf5S8jxXo",
        "colab_type": "code",
        "colab": {}
      },
      "source": [
        "# ( ͡° ͜ʖ ͡°)づ ━━ ✫・*。"
      ],
      "execution_count": 0,
      "outputs": []
    },
    {
      "cell_type": "markdown",
      "metadata": {
        "id": "KrBezBxVjxXr",
        "colab_type": "text"
      },
      "source": [
        "__Задание 5. (0.5 балла)__\n",
        "\n",
        "Найдите трех женщин с наибольшими числом беременностей."
      ]
    },
    {
      "cell_type": "code",
      "metadata": {
        "id": "TRzq5ouUjxXs",
        "colab_type": "code",
        "colab": {}
      },
      "source": [
        "# ( ͡° ͜ʖ ͡°)づ ━━ ✫・*。"
      ],
      "execution_count": 0,
      "outputs": []
    },
    {
      "cell_type": "markdown",
      "metadata": {
        "id": "NHPD5gpWjxXu",
        "colab_type": "text"
      },
      "source": [
        "__Задание 6. (0.5 балла)__\n",
        "\n",
        "Сколько женщин успели родить 3 или более детей до 30 лет?"
      ]
    },
    {
      "cell_type": "code",
      "metadata": {
        "id": "tM3xMXiXjxXv",
        "colab_type": "code",
        "colab": {}
      },
      "source": [
        "# ( ͡° ͜ʖ ͡°)づ ━━ ✫・*。"
      ],
      "execution_count": 0,
      "outputs": []
    },
    {
      "cell_type": "markdown",
      "metadata": {
        "id": "Iwjda-nSjxXy",
        "colab_type": "text"
      },
      "source": [
        "__Задание 7. (1 балл)__\n",
        "\n",
        "Нормальным кровяным давлением будем считать давление в диапазоне [80-89]. У какого процента женщин давление нормальное?"
      ]
    },
    {
      "cell_type": "code",
      "metadata": {
        "id": "jjy6ra1RjxXz",
        "colab_type": "code",
        "colab": {}
      },
      "source": [
        "# ( ͡° ͜ʖ ͡°)づ ━━ ✫・*。"
      ],
      "execution_count": 0,
      "outputs": []
    },
    {
      "cell_type": "markdown",
      "metadata": {
        "id": "4KhYpSOBjxX1",
        "colab_type": "text"
      },
      "source": [
        "__Задание 8. (1 балл)__\n",
        "\n",
        "Считается, что BMI >= 30 - это признак ожирения. \n",
        "У скольких женщин с признаками ожирения кровяное давление выше среднего?"
      ]
    },
    {
      "cell_type": "code",
      "metadata": {
        "id": "uBz8FcB4jxX1",
        "colab_type": "code",
        "colab": {}
      },
      "source": [
        "# ( ͡° ͜ʖ ͡°)づ ━━ ✫・*。"
      ],
      "execution_count": 0,
      "outputs": []
    },
    {
      "cell_type": "markdown",
      "metadata": {
        "id": "JTQ_IValjxX3",
        "colab_type": "text"
      },
      "source": [
        "__Задание 9. (1 балл)__\n",
        "\n",
        "Сравните средние значения для признаков __Glucose,\tBloodPressure,\tInsulin__ среди тех, у кого обнаружен диабет, и тех, у кого его нет. "
      ]
    },
    {
      "cell_type": "code",
      "metadata": {
        "id": "qEoifUyjjxX3",
        "colab_type": "code",
        "colab": {}
      },
      "source": [
        "# Glucose ( ͡° ͜ʖ ͡°)づ ━━ ✫・*。"
      ],
      "execution_count": 0,
      "outputs": []
    },
    {
      "cell_type": "code",
      "metadata": {
        "id": "7JkZeqyXjxX6",
        "colab_type": "code",
        "colab": {}
      },
      "source": [
        "# BloodPressure ( ͡° ͜ʖ ͡°)づ ━━ ✫・*。"
      ],
      "execution_count": 0,
      "outputs": []
    },
    {
      "cell_type": "code",
      "metadata": {
        "id": "IdlgkPfzjxX8",
        "colab_type": "code",
        "colab": {}
      },
      "source": [
        "# Insulin ( ͡° ͜ʖ ͡°)づ ━━ ✫・*。"
      ],
      "execution_count": 0,
      "outputs": []
    },
    {
      "cell_type": "markdown",
      "metadata": {
        "id": "wjMY6ug9jxX-",
        "colab_type": "text"
      },
      "source": [
        "__Задание 10. (0.5 балла)__\n",
        "\n",
        "Постройте гистограммы для любых двух количественных признаков."
      ]
    },
    {
      "cell_type": "code",
      "metadata": {
        "id": "mAd2VyaOjxX_",
        "colab_type": "code",
        "colab": {}
      },
      "source": [
        "# ( ͡° ͜ʖ ͡°)づ ━━ ✫・*。"
      ],
      "execution_count": 0,
      "outputs": []
    },
    {
      "cell_type": "markdown",
      "metadata": {
        "id": "Ki1CXmz0jxYA",
        "colab_type": "text"
      },
      "source": [
        "__Задание 11. (0.5 балла)__\n",
        "\n",
        "Постройте круговую диаграмму для признака __Class__."
      ]
    },
    {
      "cell_type": "code",
      "metadata": {
        "id": "dQU3nmpCjxYB",
        "colab_type": "code",
        "colab": {}
      },
      "source": [
        "# ( ͡° ͜ʖ ͡°)づ ━━ ✫・*。"
      ],
      "execution_count": 0,
      "outputs": []
    },
    {
      "cell_type": "markdown",
      "metadata": {
        "id": "uaLhpEi2jxYF",
        "colab_type": "text"
      },
      "source": [
        "__Задание 12. (0.5 балла)__\n",
        "\n",
        "Постройте распределения для признаков __Age__ и __BloodPressure__ и сравните оба распределения с нормальным. "
      ]
    },
    {
      "cell_type": "code",
      "metadata": {
        "id": "6AVYJbM1jxYG",
        "colab_type": "code",
        "colab": {}
      },
      "source": [
        "# ( ͡° ͜ʖ ͡°)づ ━━ ✫・*。"
      ],
      "execution_count": 0,
      "outputs": []
    },
    {
      "cell_type": "markdown",
      "metadata": {
        "id": "jQEMd-qyjxYK",
        "colab_type": "text"
      },
      "source": [
        "__Задание 13. (0.5 балла)__\n",
        "\n",
        "Постройте следующий график: среднее число больных диабетом в зависимости от числа беременностей."
      ]
    },
    {
      "cell_type": "code",
      "metadata": {
        "id": "L2smN5VBjxYK",
        "colab_type": "code",
        "colab": {}
      },
      "source": [
        "# ( ͡° ͜ʖ ͡°)づ ━━ ✫・*。"
      ],
      "execution_count": 0,
      "outputs": []
    },
    {
      "cell_type": "markdown",
      "metadata": {
        "id": "lQUXC7FqjxYM",
        "colab_type": "text"
      },
      "source": [
        "__Задание 14. (0.5 балла)__\n",
        "\n",
        "Добавьте новый бинарный признак:\n",
        "\n",
        "__wasPregnant__ $\\in$ {0,1} - была женщина беременна (1) или нет (0)"
      ]
    },
    {
      "cell_type": "code",
      "metadata": {
        "id": "iOH2LVQzjxYN",
        "colab_type": "code",
        "colab": {}
      },
      "source": [
        "# ( ͡° ͜ʖ ͡°)づ ━━ ✫・*。"
      ],
      "execution_count": 0,
      "outputs": []
    },
    {
      "cell_type": "markdown",
      "metadata": {
        "id": "lz7v-028jxYP",
        "colab_type": "text"
      },
      "source": [
        "__Задание 15. (0.5 балла)__\n",
        "\n",
        "Сравните процент больных диабетом среди женщин, которые были беременны и не были."
      ]
    },
    {
      "cell_type": "code",
      "metadata": {
        "id": "7AbUJ9DgjxYP",
        "colab_type": "code",
        "colab": {}
      },
      "source": [
        "# ( ͡° ͜ʖ ͡°)づ ━━ ✫・*。"
      ],
      "execution_count": 0,
      "outputs": []
    },
    {
      "cell_type": "markdown",
      "metadata": {
        "id": "JFvXThqxjxYS",
        "colab_type": "text"
      },
      "source": [
        "__Задание 16. (бонусное:  1 балл)__\n",
        "\n",
        "Добавьте новый категориальный признак __bodyType__ на основе столбца BMI:\n",
        "\n",
        "__BMI Categories:__ \n",
        "\n",
        "Underweight = <18.5\n",
        "\n",
        "Normal weight = 18.5–24.9 \n",
        "\n",
        "Overweight = 25–29.9 \n",
        "\n",
        "Obesity = BMI of 30 or greater\n",
        "\n",
        "Признак должен принимать значения Underweight, Normal weight, Overweight и Obesity."
      ]
    },
    {
      "cell_type": "code",
      "metadata": {
        "id": "MZTrFpp2jxYS",
        "colab_type": "code",
        "colab": {}
      },
      "source": [
        "# ( ͡° ͜ʖ ͡°)づ ━━ ✫・*。"
      ],
      "execution_count": 0,
      "outputs": []
    },
    {
      "cell_type": "markdown",
      "metadata": {
        "id": "9mGxubgGjxYU",
        "colab_type": "text"
      },
      "source": [
        "__Задание 17. (бонусное:  0.5 балла)__\n",
        "\n",
        "Будем считать \"здоровыми\" тех, у кого нормальный вес и кровяное давление. Какой процент \"здоровых\" женщин больны диабетом?"
      ]
    },
    {
      "cell_type": "code",
      "metadata": {
        "id": "lIUbdSEFjxYV",
        "colab_type": "code",
        "colab": {}
      },
      "source": [
        "# ( ͡° ͜ʖ ͡°)づ ━━ ✫・*。"
      ],
      "execution_count": 0,
      "outputs": []
    }
  ]
}