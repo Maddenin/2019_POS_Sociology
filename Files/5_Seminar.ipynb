{
 "cells": [
  {
   "cell_type": "markdown",
   "metadata": {},
   "source": [
    "# Всем AI\n",
    "\n",
    "\n",
    "\n",
    "Задача, где надо спрогнозировать класс называется классификацией (неожиданное название). Задача, где надо спрогнозировать непрерывную переменную называется регрессией. Пример непрерывной переменной: цена на квартиры. Именно её прогнозированием мы сегодня и займёмся."
   ]
  },
  {
   "cell_type": "markdown",
   "metadata": {},
   "source": [
    "# Предобработка данных \n",
    "\n",
    "Начнём наш крестовый поход за дешёвой недвижимостью с предобработки данных. "
   ]
  },
  {
   "cell_type": "code",
   "execution_count": 1,
   "metadata": {},
   "outputs": [],
   "source": [
    "import pandas as pd               # уже знакомый вам пакет для работы с таблицами\n",
    "import numpy as np                # смутно знакомый вам пакет для работы с матрицами\n",
    "import matplotlib.pyplot as plt   # уже смутно знакомый вам пакет для картинок\n",
    "import seaborn as sns             # ещё один пакет для картинок \n",
    "\n",
    "%matplotlib inline"
   ]
  },
  {
   "cell_type": "code",
   "execution_count": 2,
   "metadata": {},
   "outputs": [
    {
     "name": "stdout",
     "output_type": "stream",
     "text": [
      "Размер выборки: (2040, 10)\n"
     ]
    },
    {
     "data": {
      "text/html": [
       "<div>\n",
       "<style scoped>\n",
       "    .dataframe tbody tr th:only-of-type {\n",
       "        vertical-align: middle;\n",
       "    }\n",
       "\n",
       "    .dataframe tbody tr th {\n",
       "        vertical-align: top;\n",
       "    }\n",
       "\n",
       "    .dataframe thead th {\n",
       "        text-align: right;\n",
       "    }\n",
       "</style>\n",
       "<table border=\"1\" class=\"dataframe\">\n",
       "  <thead>\n",
       "    <tr style=\"text-align: right;\">\n",
       "      <th></th>\n",
       "      <th>price</th>\n",
       "      <th>totsp</th>\n",
       "      <th>livesp</th>\n",
       "      <th>kitsp</th>\n",
       "      <th>dist</th>\n",
       "      <th>metrdist</th>\n",
       "      <th>walk</th>\n",
       "      <th>brick</th>\n",
       "      <th>floor</th>\n",
       "      <th>code</th>\n",
       "    </tr>\n",
       "    <tr>\n",
       "      <th>n</th>\n",
       "      <th></th>\n",
       "      <th></th>\n",
       "      <th></th>\n",
       "      <th></th>\n",
       "      <th></th>\n",
       "      <th></th>\n",
       "      <th></th>\n",
       "      <th></th>\n",
       "      <th></th>\n",
       "      <th></th>\n",
       "    </tr>\n",
       "  </thead>\n",
       "  <tbody>\n",
       "    <tr>\n",
       "      <th>1</th>\n",
       "      <td>81</td>\n",
       "      <td>58</td>\n",
       "      <td>40</td>\n",
       "      <td>6.0</td>\n",
       "      <td>12.5</td>\n",
       "      <td>7</td>\n",
       "      <td>1</td>\n",
       "      <td>1</td>\n",
       "      <td>1</td>\n",
       "      <td>3</td>\n",
       "    </tr>\n",
       "    <tr>\n",
       "      <th>2</th>\n",
       "      <td>75</td>\n",
       "      <td>44</td>\n",
       "      <td>28</td>\n",
       "      <td>6.0</td>\n",
       "      <td>13.5</td>\n",
       "      <td>7</td>\n",
       "      <td>1</td>\n",
       "      <td>0</td>\n",
       "      <td>1</td>\n",
       "      <td>6</td>\n",
       "    </tr>\n",
       "    <tr>\n",
       "      <th>3</th>\n",
       "      <td>128</td>\n",
       "      <td>70</td>\n",
       "      <td>42</td>\n",
       "      <td>6.0</td>\n",
       "      <td>14.5</td>\n",
       "      <td>3</td>\n",
       "      <td>1</td>\n",
       "      <td>1</td>\n",
       "      <td>1</td>\n",
       "      <td>3</td>\n",
       "    </tr>\n",
       "    <tr>\n",
       "      <th>4</th>\n",
       "      <td>95</td>\n",
       "      <td>61</td>\n",
       "      <td>37</td>\n",
       "      <td>6.0</td>\n",
       "      <td>13.5</td>\n",
       "      <td>7</td>\n",
       "      <td>1</td>\n",
       "      <td>0</td>\n",
       "      <td>1</td>\n",
       "      <td>1</td>\n",
       "    </tr>\n",
       "    <tr>\n",
       "      <th>5</th>\n",
       "      <td>330</td>\n",
       "      <td>104</td>\n",
       "      <td>60</td>\n",
       "      <td>11.0</td>\n",
       "      <td>10.5</td>\n",
       "      <td>7</td>\n",
       "      <td>0</td>\n",
       "      <td>1</td>\n",
       "      <td>1</td>\n",
       "      <td>3</td>\n",
       "    </tr>\n",
       "  </tbody>\n",
       "</table>\n",
       "</div>"
      ],
      "text/plain": [
       "   price  totsp  livesp  kitsp  dist  metrdist  walk  brick  floor  code\n",
       "n                                                                       \n",
       "1     81     58      40    6.0  12.5         7     1      1      1     3\n",
       "2     75     44      28    6.0  13.5         7     1      0      1     6\n",
       "3    128     70      42    6.0  14.5         3     1      1      1     3\n",
       "4     95     61      37    6.0  13.5         7     1      0      1     1\n",
       "5    330    104      60   11.0  10.5         7     0      1      1     3"
      ]
     },
     "execution_count": 2,
     "metadata": {},
     "output_type": "execute_result"
    }
   ],
   "source": [
    "df = pd.read_csv('flat.csv', sep='\\t', index_col='n')  # подгружаем табличку \n",
    "print('Размер выборки:', df.shape)                     # смотрим на её размеры \n",
    "df.head() # Смотрим что лежит в табличке "
   ]
  },
  {
   "cell_type": "markdown",
   "metadata": {},
   "source": [
    "__Описание переменных:__\n",
    "\n",
    "```\n",
    "n – номер квартиры по порядку\n",
    "price – цена квартиры в $1000\n",
    "totsp – общая площадь квартиры, кв.м.\n",
    "livesp жилая площадь квартиры, кв.м.\n",
    "kitsp – площадь кухни, кв.м.\n",
    "dist – расстояние от центра в км.\n",
    "metrdist – расстояние до метро в минутах\n",
    "walk – 1 – пешком от метро, 0 – на транспорте\n",
    "brick 1 – кирпичный, монолит ж/б, 0 – другой\n",
    "floor 1 – этаж кроме первого и последнего, 0 – иначе.\n",
    "code – число от 1 до 8, при помощи которого мы группируем наблюдения по\n",
    "подвыборкам:\n",
    "1. Наблюдения сгруппированы на севере, вокруг Калужско-Рижской линии\n",
    "метрополитена\n",
    "2. Север, вокруг Серпуховско-Тимирязевской линии метрополитена\n",
    "3. Северо-запад, вокруг Замоскворецкой линии метрополитена\n",
    "4. Северо-запад, вокруг Таганско-Краснопресненской линии метрополитена\n",
    "5. Юго-восток, вокруг Люблинской линии метрополитена\n",
    "6. Юго-восток, вокруг Таганско-Краснопресненской линии метрополитена\n",
    "7. Восток, вокруг Калиниской линии метрополитена\n",
    "8. Восток, вокруг Арбатско-Покровской линии метрополитена\n",
    "```\n",
    "\n",
    "\n",
    "🤔 **Какие переменный категориальные? Какие непрерывные?**"
   ]
  },
  {
   "cell_type": "code",
   "execution_count": 3,
   "metadata": {
    "scrolled": true
   },
   "outputs": [
    {
     "name": "stdout",
     "output_type": "stream",
     "text": [
      "<class 'pandas.core.frame.DataFrame'>\n",
      "Int64Index: 2040 entries, 1 to 2040\n",
      "Data columns (total 10 columns):\n",
      "price       2040 non-null int64\n",
      "totsp       2040 non-null int64\n",
      "livesp      2040 non-null int64\n",
      "kitsp       2040 non-null float64\n",
      "dist        2040 non-null float64\n",
      "metrdist    2040 non-null int64\n",
      "walk        2040 non-null int64\n",
      "brick       2040 non-null int64\n",
      "floor       2040 non-null int64\n",
      "code        2040 non-null int64\n",
      "dtypes: float64(2), int64(8)\n",
      "memory usage: 175.3 KB\n"
     ]
    }
   ],
   "source": [
    "# Посмотрим как они считались\n",
    "df.info()"
   ]
  },
  {
   "cell_type": "markdown",
   "metadata": {},
   "source": [
    "Немного кунгфу чтобы сделать данные понятнее"
   ]
  },
  {
   "cell_type": "code",
   "execution_count": 4,
   "metadata": {},
   "outputs": [
    {
     "data": {
      "text/html": [
       "<div>\n",
       "<style scoped>\n",
       "    .dataframe tbody tr th:only-of-type {\n",
       "        vertical-align: middle;\n",
       "    }\n",
       "\n",
       "    .dataframe tbody tr th {\n",
       "        vertical-align: top;\n",
       "    }\n",
       "\n",
       "    .dataframe thead th {\n",
       "        text-align: right;\n",
       "    }\n",
       "</style>\n",
       "<table border=\"1\" class=\"dataframe\">\n",
       "  <thead>\n",
       "    <tr style=\"text-align: right;\">\n",
       "      <th></th>\n",
       "      <th>price</th>\n",
       "      <th>totsp</th>\n",
       "      <th>livesp</th>\n",
       "      <th>kitsp</th>\n",
       "      <th>dist</th>\n",
       "      <th>metrdist</th>\n",
       "      <th>walk</th>\n",
       "      <th>brick</th>\n",
       "      <th>floor</th>\n",
       "      <th>code</th>\n",
       "      <th>region_name</th>\n",
       "    </tr>\n",
       "  </thead>\n",
       "  <tbody>\n",
       "    <tr>\n",
       "      <th>0</th>\n",
       "      <td>81</td>\n",
       "      <td>58</td>\n",
       "      <td>40</td>\n",
       "      <td>6.0</td>\n",
       "      <td>12.5</td>\n",
       "      <td>7</td>\n",
       "      <td>1</td>\n",
       "      <td>1</td>\n",
       "      <td>1</td>\n",
       "      <td>3</td>\n",
       "      <td>Северо-запад, Замоскворецкая</td>\n",
       "    </tr>\n",
       "    <tr>\n",
       "      <th>1</th>\n",
       "      <td>128</td>\n",
       "      <td>70</td>\n",
       "      <td>42</td>\n",
       "      <td>6.0</td>\n",
       "      <td>14.5</td>\n",
       "      <td>3</td>\n",
       "      <td>1</td>\n",
       "      <td>1</td>\n",
       "      <td>1</td>\n",
       "      <td>3</td>\n",
       "      <td>Северо-запад, Замоскворецкая</td>\n",
       "    </tr>\n",
       "    <tr>\n",
       "      <th>2</th>\n",
       "      <td>330</td>\n",
       "      <td>104</td>\n",
       "      <td>60</td>\n",
       "      <td>11.0</td>\n",
       "      <td>10.5</td>\n",
       "      <td>7</td>\n",
       "      <td>0</td>\n",
       "      <td>1</td>\n",
       "      <td>1</td>\n",
       "      <td>3</td>\n",
       "      <td>Северо-запад, Замоскворецкая</td>\n",
       "    </tr>\n",
       "  </tbody>\n",
       "</table>\n",
       "</div>"
      ],
      "text/plain": [
       "   price  totsp  livesp  kitsp  dist  metrdist  walk  brick  floor  code  \\\n",
       "0     81     58      40    6.0  12.5         7     1      1      1     3   \n",
       "1    128     70      42    6.0  14.5         3     1      1      1     3   \n",
       "2    330    104      60   11.0  10.5         7     0      1      1     3   \n",
       "\n",
       "                    region_name  \n",
       "0  Северо-запад, Замоскворецкая  \n",
       "1  Северо-запад, Замоскворецкая  \n",
       "2  Северо-запад, Замоскворецкая  "
      ]
     },
     "execution_count": 4,
     "metadata": {},
     "output_type": "execute_result"
    }
   ],
   "source": [
    "# создадим таблицу с расшифровками\n",
    "codes = [\n",
    "    (1, \"Калужско-Рижская\"),\n",
    "    (2, \"Серпуховско-Тимирязевская\"),\n",
    "    (3, \"Северо-запад, Замоскворецкая\"),\n",
    "    (4, \"Северо-запад, Таганско-Краснопресненская\"),\n",
    "    (5, \"Юго-восток, Люблинская\"),\n",
    "    (6, \"Юго-восток, Таганско-Краснопресненская\"),\n",
    "    (7, \"Восток, Калиниская\"),\n",
    "    (8, \"Восток, Арбатско-Покровская\")]\n",
    "\n",
    "codes_df = pd.DataFrame(codes, columns=['code', 'region_name'])\n",
    "codes_df\n",
    "\n",
    "# присоединим к нашим данным\n",
    "df = df.merge(codes_df, on='code')\n",
    "df.head(3)"
   ]
  },
  {
   "cell_type": "markdown",
   "metadata": {},
   "source": [
    "# Дискриптивный анализ"
   ]
  },
  {
   "cell_type": "code",
   "execution_count": 5,
   "metadata": {},
   "outputs": [
    {
     "data": {
      "text/html": [
       "<div>\n",
       "<style scoped>\n",
       "    .dataframe tbody tr th:only-of-type {\n",
       "        vertical-align: middle;\n",
       "    }\n",
       "\n",
       "    .dataframe tbody tr th {\n",
       "        vertical-align: top;\n",
       "    }\n",
       "\n",
       "    .dataframe thead th {\n",
       "        text-align: right;\n",
       "    }\n",
       "</style>\n",
       "<table border=\"1\" class=\"dataframe\">\n",
       "  <thead>\n",
       "    <tr style=\"text-align: right;\">\n",
       "      <th></th>\n",
       "      <th>price</th>\n",
       "      <th>totsp</th>\n",
       "      <th>livesp</th>\n",
       "      <th>kitsp</th>\n",
       "      <th>dist</th>\n",
       "      <th>metrdist</th>\n",
       "      <th>walk</th>\n",
       "      <th>brick</th>\n",
       "      <th>floor</th>\n",
       "      <th>code</th>\n",
       "    </tr>\n",
       "  </thead>\n",
       "  <tbody>\n",
       "    <tr>\n",
       "      <th>count</th>\n",
       "      <td>2040.000000</td>\n",
       "      <td>2040.000000</td>\n",
       "      <td>2040.000000</td>\n",
       "      <td>2040.000000</td>\n",
       "      <td>2040.000000</td>\n",
       "      <td>2040.000000</td>\n",
       "      <td>2040.000000</td>\n",
       "      <td>2040.000000</td>\n",
       "      <td>2040.000000</td>\n",
       "      <td>2040.000000</td>\n",
       "    </tr>\n",
       "    <tr>\n",
       "      <th>mean</th>\n",
       "      <td>127.496569</td>\n",
       "      <td>73.084314</td>\n",
       "      <td>46.337255</td>\n",
       "      <td>8.898529</td>\n",
       "      <td>11.015686</td>\n",
       "      <td>8.117157</td>\n",
       "      <td>0.685784</td>\n",
       "      <td>0.323039</td>\n",
       "      <td>0.790686</td>\n",
       "      <td>4.322059</td>\n",
       "    </tr>\n",
       "    <tr>\n",
       "      <th>std</th>\n",
       "      <td>51.878220</td>\n",
       "      <td>15.123450</td>\n",
       "      <td>7.894348</td>\n",
       "      <td>2.787073</td>\n",
       "      <td>3.375539</td>\n",
       "      <td>3.815574</td>\n",
       "      <td>0.464317</td>\n",
       "      <td>0.467752</td>\n",
       "      <td>0.406918</td>\n",
       "      <td>2.183289</td>\n",
       "    </tr>\n",
       "    <tr>\n",
       "      <th>min</th>\n",
       "      <td>50.000000</td>\n",
       "      <td>44.000000</td>\n",
       "      <td>28.000000</td>\n",
       "      <td>5.000000</td>\n",
       "      <td>3.000000</td>\n",
       "      <td>1.000000</td>\n",
       "      <td>0.000000</td>\n",
       "      <td>0.000000</td>\n",
       "      <td>0.000000</td>\n",
       "      <td>1.000000</td>\n",
       "    </tr>\n",
       "    <tr>\n",
       "      <th>25%</th>\n",
       "      <td>95.000000</td>\n",
       "      <td>62.000000</td>\n",
       "      <td>42.000000</td>\n",
       "      <td>7.000000</td>\n",
       "      <td>9.000000</td>\n",
       "      <td>5.000000</td>\n",
       "      <td>0.000000</td>\n",
       "      <td>0.000000</td>\n",
       "      <td>1.000000</td>\n",
       "      <td>3.000000</td>\n",
       "    </tr>\n",
       "    <tr>\n",
       "      <th>50%</th>\n",
       "      <td>115.000000</td>\n",
       "      <td>73.500000</td>\n",
       "      <td>45.000000</td>\n",
       "      <td>9.000000</td>\n",
       "      <td>12.000000</td>\n",
       "      <td>7.000000</td>\n",
       "      <td>1.000000</td>\n",
       "      <td>0.000000</td>\n",
       "      <td>1.000000</td>\n",
       "      <td>4.000000</td>\n",
       "    </tr>\n",
       "    <tr>\n",
       "      <th>75%</th>\n",
       "      <td>142.000000</td>\n",
       "      <td>79.000000</td>\n",
       "      <td>50.000000</td>\n",
       "      <td>10.000000</td>\n",
       "      <td>13.500000</td>\n",
       "      <td>10.000000</td>\n",
       "      <td>1.000000</td>\n",
       "      <td>1.000000</td>\n",
       "      <td>1.000000</td>\n",
       "      <td>6.000000</td>\n",
       "    </tr>\n",
       "    <tr>\n",
       "      <th>max</th>\n",
       "      <td>730.000000</td>\n",
       "      <td>192.000000</td>\n",
       "      <td>102.000000</td>\n",
       "      <td>25.000000</td>\n",
       "      <td>17.000000</td>\n",
       "      <td>20.000000</td>\n",
       "      <td>1.000000</td>\n",
       "      <td>1.000000</td>\n",
       "      <td>1.000000</td>\n",
       "      <td>8.000000</td>\n",
       "    </tr>\n",
       "  </tbody>\n",
       "</table>\n",
       "</div>"
      ],
      "text/plain": [
       "             price        totsp       livesp        kitsp         dist  \\\n",
       "count  2040.000000  2040.000000  2040.000000  2040.000000  2040.000000   \n",
       "mean    127.496569    73.084314    46.337255     8.898529    11.015686   \n",
       "std      51.878220    15.123450     7.894348     2.787073     3.375539   \n",
       "min      50.000000    44.000000    28.000000     5.000000     3.000000   \n",
       "25%      95.000000    62.000000    42.000000     7.000000     9.000000   \n",
       "50%     115.000000    73.500000    45.000000     9.000000    12.000000   \n",
       "75%     142.000000    79.000000    50.000000    10.000000    13.500000   \n",
       "max     730.000000   192.000000   102.000000    25.000000    17.000000   \n",
       "\n",
       "          metrdist         walk        brick        floor         code  \n",
       "count  2040.000000  2040.000000  2040.000000  2040.000000  2040.000000  \n",
       "mean      8.117157     0.685784     0.323039     0.790686     4.322059  \n",
       "std       3.815574     0.464317     0.467752     0.406918     2.183289  \n",
       "min       1.000000     0.000000     0.000000     0.000000     1.000000  \n",
       "25%       5.000000     0.000000     0.000000     1.000000     3.000000  \n",
       "50%       7.000000     1.000000     0.000000     1.000000     4.000000  \n",
       "75%      10.000000     1.000000     1.000000     1.000000     6.000000  \n",
       "max      20.000000     1.000000     1.000000     1.000000     8.000000  "
      ]
     },
     "execution_count": 5,
     "metadata": {},
     "output_type": "execute_result"
    }
   ],
   "source": [
    "df.describe()"
   ]
  },
  {
   "cell_type": "markdown",
   "metadata": {},
   "source": [
    "Пропусков нет. Это хорошая новость.\n",
    "\n",
    "🤔 **А что делать, если бы они были?**"
   ]
  },
  {
   "cell_type": "code",
   "execution_count": 6,
   "metadata": {},
   "outputs": [
    {
     "data": {
      "text/plain": [
       "price          0\n",
       "totsp          0\n",
       "livesp         0\n",
       "kitsp          0\n",
       "dist           0\n",
       "metrdist       0\n",
       "walk           0\n",
       "brick          0\n",
       "floor          0\n",
       "code           0\n",
       "region_name    0\n",
       "dtype: int64"
      ]
     },
     "execution_count": 6,
     "metadata": {},
     "output_type": "execute_result"
    }
   ],
   "source": [
    "# Есть ли в переменных пропуски?\n",
    "df.isnull().sum()"
   ]
  },
  {
   "cell_type": "markdown",
   "metadata": {},
   "source": [
    "## Целевая переменная"
   ]
  },
  {
   "cell_type": "code",
   "execution_count": 7,
   "metadata": {},
   "outputs": [
    {
     "data": {
      "text/plain": [
       "<matplotlib.axes._subplots.AxesSubplot at 0x1a156150b8>"
      ]
     },
     "execution_count": 7,
     "metadata": {},
     "output_type": "execute_result"
    },
    {
     "data": {
      "image/png": "[encoded data removed]",
      "text/plain": [
       "<matplotlib.figure.Figure at 0x1a1539a278>"
      ]
     },
     "metadata": {
      "needs_background": "light"
     },
     "output_type": "display_data"
    }
   ],
   "source": [
    "df.price.hist(bins=40, figsize=(10,5))\n",
    "# в долларах не очень понятно"
   ]
  },
  {
   "cell_type": "code",
   "execution_count": 8,
   "metadata": {},
   "outputs": [],
   "source": [
    "# посчитайте цену в млн. рублей\n",
    "# пусть новая колонка называется \"price_rur\", а курс доллара ₽75\n",
    "\n",
    "# ( ͡° ل͜ ͡°)━☆ﾟ.*･｡ﾟ☆ﾟ.*･｡ﾟ\n",
    "\n",
    "# ✅ SOLUTION:\n",
    "df['price_rur'] = df.price*75/1000"
   ]
  },
  {
   "cell_type": "code",
   "execution_count": 9,
   "metadata": {},
   "outputs": [
    {
     "data": {
      "text/plain": [
       "<matplotlib.axes._subplots.AxesSubplot at 0x1a177b04a8>"
      ]
     },
     "execution_count": 9,
     "metadata": {},
     "output_type": "execute_result"
    },
    {
     "data": {
      "image/png": "[encoded data removed]",
      "text/plain": [
       "<matplotlib.figure.Figure at 0x1a17796048>"
      ]
     },
     "metadata": {
      "needs_background": "light"
     },
     "output_type": "display_data"
    }
   ],
   "source": [
    "df.loc[df.price_rur<10, 'price_rur'].hist(bins=30)"
   ]
  },
  {
   "cell_type": "code",
   "execution_count": 10,
   "metadata": {},
   "outputs": [
    {
     "data": {
      "text/html": [
       "<div>\n",
       "<style scoped>\n",
       "    .dataframe tbody tr th:only-of-type {\n",
       "        vertical-align: middle;\n",
       "    }\n",
       "\n",
       "    .dataframe tbody tr th {\n",
       "        vertical-align: top;\n",
       "    }\n",
       "\n",
       "    .dataframe thead th {\n",
       "        text-align: right;\n",
       "    }\n",
       "</style>\n",
       "<table border=\"1\" class=\"dataframe\">\n",
       "  <thead>\n",
       "    <tr style=\"text-align: right;\">\n",
       "      <th></th>\n",
       "      <th>price</th>\n",
       "      <th>totsp</th>\n",
       "      <th>livesp</th>\n",
       "      <th>kitsp</th>\n",
       "      <th>dist</th>\n",
       "      <th>metrdist</th>\n",
       "      <th>walk</th>\n",
       "      <th>brick</th>\n",
       "      <th>floor</th>\n",
       "      <th>code</th>\n",
       "      <th>region_name</th>\n",
       "      <th>price_rur</th>\n",
       "    </tr>\n",
       "  </thead>\n",
       "  <tbody>\n",
       "    <tr>\n",
       "      <th>348</th>\n",
       "      <td>56</td>\n",
       "      <td>68</td>\n",
       "      <td>43</td>\n",
       "      <td>7.0</td>\n",
       "      <td>13.5</td>\n",
       "      <td>10</td>\n",
       "      <td>0</td>\n",
       "      <td>1</td>\n",
       "      <td>1</td>\n",
       "      <td>6</td>\n",
       "      <td>Юго-восток, Таганско-Краснопресненская</td>\n",
       "      <td>4.20</td>\n",
       "    </tr>\n",
       "    <tr>\n",
       "      <th>1619</th>\n",
       "      <td>52</td>\n",
       "      <td>86</td>\n",
       "      <td>46</td>\n",
       "      <td>9.0</td>\n",
       "      <td>12.0</td>\n",
       "      <td>10</td>\n",
       "      <td>0</td>\n",
       "      <td>0</td>\n",
       "      <td>1</td>\n",
       "      <td>7</td>\n",
       "      <td>Восток, Калиниская</td>\n",
       "      <td>3.90</td>\n",
       "    </tr>\n",
       "    <tr>\n",
       "      <th>1624</th>\n",
       "      <td>50</td>\n",
       "      <td>63</td>\n",
       "      <td>47</td>\n",
       "      <td>7.0</td>\n",
       "      <td>12.0</td>\n",
       "      <td>20</td>\n",
       "      <td>0</td>\n",
       "      <td>1</td>\n",
       "      <td>0</td>\n",
       "      <td>7</td>\n",
       "      <td>Восток, Калиниская</td>\n",
       "      <td>3.75</td>\n",
       "    </tr>\n",
       "  </tbody>\n",
       "</table>\n",
       "</div>"
      ],
      "text/plain": [
       "      price  totsp  livesp  kitsp  dist  metrdist  walk  brick  floor  code  \\\n",
       "348      56     68      43    7.0  13.5        10     0      1      1     6   \n",
       "1619     52     86      46    9.0  12.0        10     0      0      1     7   \n",
       "1624     50     63      47    7.0  12.0        20     0      1      0     7   \n",
       "\n",
       "                                 region_name  price_rur  \n",
       "348   Юго-восток, Таганско-Краснопресненская       4.20  \n",
       "1619                      Восток, Калиниская       3.90  \n",
       "1624                      Восток, Калиниская       3.75  "
      ]
     },
     "execution_count": 10,
     "metadata": {},
     "output_type": "execute_result"
    }
   ],
   "source": [
    "# дешевых квартир в наших данных мало\n",
    "# почему? ну такие данные)))\n",
    "df[df.price_rur<5]"
   ]
  },
  {
   "cell_type": "markdown",
   "metadata": {},
   "source": [
    "## Зависимая переменная"
   ]
  },
  {
   "cell_type": "code",
   "execution_count": 11,
   "metadata": {},
   "outputs": [],
   "source": [
    "# постройте распрделение площади квартир\n",
    "# 🤔 Какие выводы можно сделать по этой визуализации?\n",
    "\n",
    "# ( ͡° ل͜ ͡°)━☆ﾟ.*･｡ﾟ☆ﾟ.*･｡ﾟ"
   ]
  },
  {
   "cell_type": "code",
   "execution_count": 12,
   "metadata": {},
   "outputs": [],
   "source": [
    "# постройте распределение удаленности от метро\n",
    "# 🤔 Какие выводы можно сделать по этой визуализации?\n",
    "\n",
    "# ( ͡° ل͜ ͡°)━☆ﾟ.*･｡ﾟ☆ﾟ.*･｡ﾟ"
   ]
  },
  {
   "cell_type": "markdown",
   "metadata": {},
   "source": [
    "## Статистики по регионам"
   ]
  },
  {
   "cell_type": "code",
   "execution_count": 13,
   "metadata": {},
   "outputs": [
    {
     "data": {
      "text/html": [
       "<div>\n",
       "<style scoped>\n",
       "    .dataframe tbody tr th:only-of-type {\n",
       "        vertical-align: middle;\n",
       "    }\n",
       "\n",
       "    .dataframe tbody tr th {\n",
       "        vertical-align: top;\n",
       "    }\n",
       "\n",
       "    .dataframe thead th {\n",
       "        text-align: right;\n",
       "    }\n",
       "</style>\n",
       "<table border=\"1\" class=\"dataframe\">\n",
       "  <thead>\n",
       "    <tr style=\"text-align: right;\">\n",
       "      <th></th>\n",
       "      <th>price</th>\n",
       "      <th>totsp</th>\n",
       "      <th>livesp</th>\n",
       "      <th>kitsp</th>\n",
       "      <th>dist</th>\n",
       "      <th>metrdist</th>\n",
       "      <th>walk</th>\n",
       "      <th>brick</th>\n",
       "      <th>floor</th>\n",
       "      <th>code</th>\n",
       "      <th>price_rur</th>\n",
       "    </tr>\n",
       "    <tr>\n",
       "      <th>region_name</th>\n",
       "      <th></th>\n",
       "      <th></th>\n",
       "      <th></th>\n",
       "      <th></th>\n",
       "      <th></th>\n",
       "      <th></th>\n",
       "      <th></th>\n",
       "      <th></th>\n",
       "      <th></th>\n",
       "      <th></th>\n",
       "      <th></th>\n",
       "    </tr>\n",
       "  </thead>\n",
       "  <tbody>\n",
       "    <tr>\n",
       "      <th>Восток, Арбатско-Покровская</th>\n",
       "      <td>136.744444</td>\n",
       "      <td>72.350000</td>\n",
       "      <td>47.794444</td>\n",
       "      <td>8.519444</td>\n",
       "      <td>8.952778</td>\n",
       "      <td>7.944444</td>\n",
       "      <td>0.777778</td>\n",
       "      <td>0.605556</td>\n",
       "      <td>0.727778</td>\n",
       "      <td>8.0</td>\n",
       "      <td>10.255833</td>\n",
       "    </tr>\n",
       "    <tr>\n",
       "      <th>Восток, Калиниская</th>\n",
       "      <td>114.230088</td>\n",
       "      <td>70.650442</td>\n",
       "      <td>45.070796</td>\n",
       "      <td>8.185841</td>\n",
       "      <td>10.090708</td>\n",
       "      <td>9.132743</td>\n",
       "      <td>0.561947</td>\n",
       "      <td>0.327434</td>\n",
       "      <td>0.747788</td>\n",
       "      <td>7.0</td>\n",
       "      <td>8.567257</td>\n",
       "    </tr>\n",
       "    <tr>\n",
       "      <th>Калужско-Рижская</th>\n",
       "      <td>134.411765</td>\n",
       "      <td>72.687500</td>\n",
       "      <td>46.316176</td>\n",
       "      <td>9.084559</td>\n",
       "      <td>10.808824</td>\n",
       "      <td>8.628676</td>\n",
       "      <td>0.750000</td>\n",
       "      <td>0.338235</td>\n",
       "      <td>0.838235</td>\n",
       "      <td>1.0</td>\n",
       "      <td>10.080882</td>\n",
       "    </tr>\n",
       "    <tr>\n",
       "      <th>Северо-запад, Замоскворецкая</th>\n",
       "      <td>148.246377</td>\n",
       "      <td>76.950725</td>\n",
       "      <td>48.930435</td>\n",
       "      <td>9.272464</td>\n",
       "      <td>11.317391</td>\n",
       "      <td>8.382609</td>\n",
       "      <td>0.547826</td>\n",
       "      <td>0.510145</td>\n",
       "      <td>0.791304</td>\n",
       "      <td>3.0</td>\n",
       "      <td>11.118478</td>\n",
       "    </tr>\n",
       "    <tr>\n",
       "      <th>Северо-запад, Таганско-Краснопресненская</th>\n",
       "      <td>148.693780</td>\n",
       "      <td>74.712919</td>\n",
       "      <td>47.449761</td>\n",
       "      <td>9.253589</td>\n",
       "      <td>9.344498</td>\n",
       "      <td>6.822967</td>\n",
       "      <td>0.708134</td>\n",
       "      <td>0.330144</td>\n",
       "      <td>0.856459</td>\n",
       "      <td>4.0</td>\n",
       "      <td>11.152033</td>\n",
       "    </tr>\n",
       "    <tr>\n",
       "      <th>Серпуховско-Тимирязевская</th>\n",
       "      <td>110.316279</td>\n",
       "      <td>68.018605</td>\n",
       "      <td>43.465116</td>\n",
       "      <td>8.079070</td>\n",
       "      <td>13.753488</td>\n",
       "      <td>7.939535</td>\n",
       "      <td>0.804651</td>\n",
       "      <td>0.134884</td>\n",
       "      <td>0.739535</td>\n",
       "      <td>2.0</td>\n",
       "      <td>8.273721</td>\n",
       "    </tr>\n",
       "    <tr>\n",
       "      <th>Юго-восток, Люблинская</th>\n",
       "      <td>115.779762</td>\n",
       "      <td>75.696429</td>\n",
       "      <td>45.684524</td>\n",
       "      <td>9.781250</td>\n",
       "      <td>11.748512</td>\n",
       "      <td>7.886905</td>\n",
       "      <td>0.752976</td>\n",
       "      <td>0.136905</td>\n",
       "      <td>0.818452</td>\n",
       "      <td>5.0</td>\n",
       "      <td>8.683482</td>\n",
       "    </tr>\n",
       "    <tr>\n",
       "      <th>Юго-восток, Таганско-Краснопресненская</th>\n",
       "      <td>109.964981</td>\n",
       "      <td>70.466926</td>\n",
       "      <td>45.322957</td>\n",
       "      <td>8.334630</td>\n",
       "      <td>11.198444</td>\n",
       "      <td>7.949416</td>\n",
       "      <td>0.642023</td>\n",
       "      <td>0.249027</td>\n",
       "      <td>0.774319</td>\n",
       "      <td>6.0</td>\n",
       "      <td>8.247374</td>\n",
       "    </tr>\n",
       "  </tbody>\n",
       "</table>\n",
       "</div>"
      ],
      "text/plain": [
       "                                               price      totsp     livesp  \\\n",
       "region_name                                                                  \n",
       "Восток, Арбатско-Покровская               136.744444  72.350000  47.794444   \n",
       "Восток, Калиниская                        114.230088  70.650442  45.070796   \n",
       "Калужско-Рижская                          134.411765  72.687500  46.316176   \n",
       "Северо-запад, Замоскворецкая              148.246377  76.950725  48.930435   \n",
       "Северо-запад, Таганско-Краснопресненская  148.693780  74.712919  47.449761   \n",
       "Серпуховско-Тимирязевская                 110.316279  68.018605  43.465116   \n",
       "Юго-восток, Люблинская                    115.779762  75.696429  45.684524   \n",
       "Юго-восток, Таганско-Краснопресненская    109.964981  70.466926  45.322957   \n",
       "\n",
       "                                             kitsp       dist  metrdist  \\\n",
       "region_name                                                               \n",
       "Восток, Арбатско-Покровская               8.519444   8.952778  7.944444   \n",
       "Восток, Калиниская                        8.185841  10.090708  9.132743   \n",
       "Калужско-Рижская                          9.084559  10.808824  8.628676   \n",
       "Северо-запад, Замоскворецкая              9.272464  11.317391  8.382609   \n",
       "Северо-запад, Таганско-Краснопресненская  9.253589   9.344498  6.822967   \n",
       "Серпуховско-Тимирязевская                 8.079070  13.753488  7.939535   \n",
       "Юго-восток, Люблинская                    9.781250  11.748512  7.886905   \n",
       "Юго-восток, Таганско-Краснопресненская    8.334630  11.198444  7.949416   \n",
       "\n",
       "                                              walk     brick     floor  code  \\\n",
       "region_name                                                                    \n",
       "Восток, Арбатско-Покровская               0.777778  0.605556  0.727778   8.0   \n",
       "Восток, Калиниская                        0.561947  0.327434  0.747788   7.0   \n",
       "Калужско-Рижская                          0.750000  0.338235  0.838235   1.0   \n",
       "Северо-запад, Замоскворецкая              0.547826  0.510145  0.791304   3.0   \n",
       "Северо-запад, Таганско-Краснопресненская  0.708134  0.330144  0.856459   4.0   \n",
       "Серпуховско-Тимирязевская                 0.804651  0.134884  0.739535   2.0   \n",
       "Юго-восток, Люблинская                    0.752976  0.136905  0.818452   5.0   \n",
       "Юго-восток, Таганско-Краснопресненская    0.642023  0.249027  0.774319   6.0   \n",
       "\n",
       "                                          price_rur  \n",
       "region_name                                          \n",
       "Восток, Арбатско-Покровская               10.255833  \n",
       "Восток, Калиниская                         8.567257  \n",
       "Калужско-Рижская                          10.080882  \n",
       "Северо-запад, Замоскворецкая              11.118478  \n",
       "Северо-запад, Таганско-Краснопресненская  11.152033  \n",
       "Серпуховско-Тимирязевская                  8.273721  \n",
       "Юго-восток, Люблинская                     8.683482  \n",
       "Юго-восток, Таганско-Краснопресненская     8.247374  "
      ]
     },
     "execution_count": 13,
     "metadata": {},
     "output_type": "execute_result"
    }
   ],
   "source": [
    "# сгруппируем по 'region_name'\n",
    "# посчитаем средние значения для остальных полей\n",
    "# 🤔 Какие выводы можно сделать по этой таблице?\n",
    "\n",
    "df.groupby('region_name').mean()"
   ]
  },
  {
   "cell_type": "markdown",
   "metadata": {},
   "source": [
    "# Модель решающего дерева\n",
    "\n",
    "Замоделируем цену квартиры - построим модель оценки стоимости жилья в зависимости от его характеристик. **Модель** - это некоторая функция перехода от $X$ к $y$\n",
    "\n",
    "$$f(X) -> y, $$\n",
    "\n",
    "где $X$ - независимые переменные, $y$ - зависимая переменная"
   ]
  },
  {
   "cell_type": "markdown",
   "metadata": {},
   "source": [
    "## Как строится решающее дерево\n",
    "В дереве строится набор разбиений по разным признакам, посмотрим на примере"
   ]
  },
  {
   "cell_type": "markdown",
   "metadata": {},
   "source": [
    "### разбиение 1: \n",
    "есть гипотеза, что квартиры с меньшей площадью стоят дешевле"
   ]
  },
  {
   "cell_type": "code",
   "execution_count": 108,
   "metadata": {},
   "outputs": [],
   "source": [
    "# разобьем на два подмножества по этому признаку\n",
    "threshold = 60\n",
    "leaf_left = df[df.totsp < threshold]\n",
    "leaf_right = df[df.totsp >= threshold]"
   ]
  },
  {
   "cell_type": "markdown",
   "metadata": {},
   "source": [
    "Оценим что получилось"
   ]
  },
  {
   "cell_type": "code",
   "execution_count": 136,
   "metadata": {},
   "outputs": [
    {
     "name": "stdout",
     "output_type": "stream",
     "text": [
      "Средняя стоимость в левом листе 6.7 млн.\n",
      "Средняя стоимость в правом листе 10.1 млн.\n"
     ]
    },
    {
     "data": {
      "text/plain": [
       "<matplotlib.axes._subplots.AxesSubplot at 0x1a1e5dd518>"
      ]
     },
     "execution_count": 136,
     "metadata": {},
     "output_type": "execute_result"
    },
    {
     "data": {
      "image/png": "[encoded data removed]",
      "text/plain": [
       "<matplotlib.figure.Figure at 0x1a1e64ca20>"
      ]
     },
     "metadata": {
      "needs_background": "light"
     },
     "output_type": "display_data"
    }
   ],
   "source": [
    "print(\"Средняя стоимость в левом листе {:.3} млн.\".format(leaf_left.price_rur.mean()))\n",
    "print(\"Средняя стоимость в правом листе {:.3} млн.\".format(leaf_right.price_rur.mean()))\n",
    "\n",
    "# построим распределние цен\n",
    "sns.distplot(leaf_left.price_rur)\n",
    "sns.distplot(leaf_right.price_rur)"
   ]
  },
  {
   "cell_type": "markdown",
   "metadata": {},
   "source": [
    "### разбиение 2: \n",
    "есть гипотеза, что квартиры, находящиеся ближе к метро, стоят дороже"
   ]
  },
  {
   "cell_type": "code",
   "execution_count": 126,
   "metadata": {},
   "outputs": [],
   "source": [
    "# разобьем на два подмножества по этому признаку\n",
    "\n",
    "threshold = 5\n",
    "# левый лист\n",
    "leaf_left_left = leaf_left[leaf_left.dist < threshold]\n",
    "leaf_left_right = leaf_left[leaf_left.dist >= threshold]\n",
    "\n",
    "# правый лист\n",
    "leaf_right_left = leaf_right[leaf_right.dist < threshold]\n",
    "leaf_right_right = leaf_right[leaf_right.dist >= threshold]"
   ]
  },
  {
   "cell_type": "markdown",
   "metadata": {},
   "source": [
    "Оценим что получилось"
   ]
  },
  {
   "cell_type": "code",
   "execution_count": 137,
   "metadata": {},
   "outputs": [
    {
     "name": "stdout",
     "output_type": "stream",
     "text": [
      "Если от начала пошли в левый лист\n",
      "\n",
      "Средняя стоимость в левом листе 8.25 млн.\n",
      "Средняя стоимость в правом листе 6.56 млн.\n"
     ]
    },
    {
     "data": {
      "text/plain": [
       "<matplotlib.axes._subplots.AxesSubplot at 0x1a1e8511d0>"
      ]
     },
     "execution_count": 137,
     "metadata": {},
     "output_type": "execute_result"
    },
    {
     "data": {
      "image/png": "[encoded data removed]",
      "text/plain": [
       "<matplotlib.figure.Figure at 0x1a1e7a3400>"
      ]
     },
     "metadata": {
      "needs_background": "light"
     },
     "output_type": "display_data"
    }
   ],
   "source": [
    "print(\"Если от начала пошли в левый лист\\n\")\n",
    "print(\"Средняя стоимость в левом листе {:.3} млн.\".format(leaf_left_left.price_rur.mean()))\n",
    "print(\"Средняя стоимость в правом листе {:.3} млн.\".format(leaf_left_right.price_rur.mean()))\n",
    "\n",
    "# построим распределние цен для разбиений в левом листе\n",
    "sns.distplot(leaf_left_left.price_rur)\n",
    "sns.distplot(leaf_left_right.price_rur)"
   ]
  },
  {
   "cell_type": "code",
   "execution_count": 138,
   "metadata": {},
   "outputs": [
    {
     "name": "stdout",
     "output_type": "stream",
     "text": [
      "Если от начала пошли в правый лист\n",
      "\n",
      "Средняя стоимость в левом листе 13.0 млн.\n",
      "Средняя стоимость в правом листе 9.93 млн.\n"
     ]
    },
    {
     "data": {
      "text/plain": [
       "<matplotlib.axes._subplots.AxesSubplot at 0x1a1e6fe4e0>"
      ]
     },
     "execution_count": 138,
     "metadata": {},
     "output_type": "execute_result"
    },
    {
     "data": {
      "image/png": "[encoded data removed]",
      "text/plain": [
       "<matplotlib.figure.Figure at 0x1a1e8b3b70>"
      ]
     },
     "metadata": {
      "needs_background": "light"
     },
     "output_type": "display_data"
    }
   ],
   "source": [
    "print(\"Если от начала пошли в правый лист\\n\")\n",
    "print(\"Средняя стоимость в левом листе {:.3} млн.\".format(leaf_right_left.price_rur.mean()))\n",
    "print(\"Средняя стоимость в правом листе {:.3} млн.\".format(leaf_right_right.price_rur.mean()))\n",
    "\n",
    "# построим распределние цен для разбиений в левом листе\n",
    "sns.distplot(leaf_right_left.price_rur)\n",
    "sns.distplot(leaf_right_right.price_rur)"
   ]
  },
  {
   "attachments": {
    "hse_soc.png": {
     "image/png": "[encoded data removed]"
    }
   },
   "cell_type": "markdown",
   "metadata": {},
   "source": [
    "### Получили вот такое решающее дерево - можно строить до необходимой глубины, увеличивая точность\n",
    "\n",
    "![hse_soc.png](attachment:hse_soc.png)"
   ]
  },
  {
   "cell_type": "markdown",
   "metadata": {},
   "source": [
    "## Обучаем модель"
   ]
  },
  {
   "cell_type": "code",
   "execution_count": 14,
   "metadata": {},
   "outputs": [],
   "source": [
    "# импортируем модель\n",
    "# моделирование живет в библиотеке sklearn\n",
    "# в частности, нас интересуют решающее дерево\n",
    "\n",
    "from sklearn.tree import DecisionTreeRegressor"
   ]
  },
  {
   "cell_type": "code",
   "execution_count": 15,
   "metadata": {},
   "outputs": [],
   "source": [
    "model = DecisionTreeRegressor()"
   ]
  },
  {
   "cell_type": "code",
   "execution_count": 16,
   "metadata": {},
   "outputs": [
    {
     "data": {
      "text/plain": [
       "Index(['price', 'totsp', 'livesp', 'kitsp', 'dist', 'metrdist', 'walk',\n",
       "       'brick', 'floor', 'code', 'region_name', 'price_rur'],\n",
       "      dtype='object')"
      ]
     },
     "execution_count": 16,
     "metadata": {},
     "output_type": "execute_result"
    }
   ],
   "source": [
    "# вспомним какие у нас вообще данные\n",
    "df.columns"
   ]
  },
  {
   "cell_type": "code",
   "execution_count": 17,
   "metadata": {},
   "outputs": [
    {
     "data": {
      "text/plain": [
       "0     6.075\n",
       "1     9.600\n",
       "2    24.750\n",
       "3    16.875\n",
       "4     9.900\n",
       "Name: price_rur, dtype: float64"
      ]
     },
     "execution_count": 17,
     "metadata": {},
     "output_type": "execute_result"
    }
   ],
   "source": [
    "# зависимая переменная\n",
    "y = df['price_rur']\n",
    "y.head()"
   ]
  },
  {
   "cell_type": "code",
   "execution_count": 18,
   "metadata": {},
   "outputs": [
    {
     "data": {
      "text/html": [
       "<div>\n",
       "<style scoped>\n",
       "    .dataframe tbody tr th:only-of-type {\n",
       "        vertical-align: middle;\n",
       "    }\n",
       "\n",
       "    .dataframe tbody tr th {\n",
       "        vertical-align: top;\n",
       "    }\n",
       "\n",
       "    .dataframe thead th {\n",
       "        text-align: right;\n",
       "    }\n",
       "</style>\n",
       "<table border=\"1\" class=\"dataframe\">\n",
       "  <thead>\n",
       "    <tr style=\"text-align: right;\">\n",
       "      <th></th>\n",
       "      <th>totsp</th>\n",
       "      <th>livesp</th>\n",
       "      <th>kitsp</th>\n",
       "      <th>dist</th>\n",
       "      <th>metrdist</th>\n",
       "      <th>walk</th>\n",
       "      <th>brick</th>\n",
       "      <th>floor</th>\n",
       "      <th>code</th>\n",
       "    </tr>\n",
       "  </thead>\n",
       "  <tbody>\n",
       "    <tr>\n",
       "      <th>0</th>\n",
       "      <td>58</td>\n",
       "      <td>40</td>\n",
       "      <td>6.0</td>\n",
       "      <td>12.5</td>\n",
       "      <td>7</td>\n",
       "      <td>1</td>\n",
       "      <td>1</td>\n",
       "      <td>1</td>\n",
       "      <td>3</td>\n",
       "    </tr>\n",
       "    <tr>\n",
       "      <th>1</th>\n",
       "      <td>70</td>\n",
       "      <td>42</td>\n",
       "      <td>6.0</td>\n",
       "      <td>14.5</td>\n",
       "      <td>3</td>\n",
       "      <td>1</td>\n",
       "      <td>1</td>\n",
       "      <td>1</td>\n",
       "      <td>3</td>\n",
       "    </tr>\n",
       "    <tr>\n",
       "      <th>2</th>\n",
       "      <td>104</td>\n",
       "      <td>60</td>\n",
       "      <td>11.0</td>\n",
       "      <td>10.5</td>\n",
       "      <td>7</td>\n",
       "      <td>0</td>\n",
       "      <td>1</td>\n",
       "      <td>1</td>\n",
       "      <td>3</td>\n",
       "    </tr>\n",
       "    <tr>\n",
       "      <th>3</th>\n",
       "      <td>80</td>\n",
       "      <td>56</td>\n",
       "      <td>9.0</td>\n",
       "      <td>9.0</td>\n",
       "      <td>5</td>\n",
       "      <td>1</td>\n",
       "      <td>1</td>\n",
       "      <td>1</td>\n",
       "      <td>3</td>\n",
       "    </tr>\n",
       "    <tr>\n",
       "      <th>4</th>\n",
       "      <td>96</td>\n",
       "      <td>56</td>\n",
       "      <td>12.0</td>\n",
       "      <td>10.5</td>\n",
       "      <td>7</td>\n",
       "      <td>0</td>\n",
       "      <td>0</td>\n",
       "      <td>1</td>\n",
       "      <td>3</td>\n",
       "    </tr>\n",
       "  </tbody>\n",
       "</table>\n",
       "</div>"
      ],
      "text/plain": [
       "   totsp  livesp  kitsp  dist  metrdist  walk  brick  floor  code\n",
       "0     58      40    6.0  12.5         7     1      1      1     3\n",
       "1     70      42    6.0  14.5         3     1      1      1     3\n",
       "2    104      60   11.0  10.5         7     0      1      1     3\n",
       "3     80      56    9.0   9.0         5     1      1      1     3\n",
       "4     96      56   12.0  10.5         7     0      0      1     3"
      ]
     },
     "execution_count": 18,
     "metadata": {},
     "output_type": "execute_result"
    }
   ],
   "source": [
    "# независимые переменные\n",
    "features_list = ['totsp', 'livesp', 'kitsp', 'dist', 'metrdist', 'walk', 'brick', 'floor', 'code']\n",
    "X = df[features_list]\n",
    "X.head()"
   ]
  },
  {
   "cell_type": "code",
   "execution_count": 19,
   "metadata": {},
   "outputs": [
    {
     "data": {
      "text/plain": [
       "DecisionTreeRegressor(criterion='mse', max_depth=None, max_features=None,\n",
       "           max_leaf_nodes=None, min_impurity_decrease=0.0,\n",
       "           min_impurity_split=None, min_samples_leaf=1,\n",
       "           min_samples_split=2, min_weight_fraction_leaf=0.0,\n",
       "           presort=False, random_state=None, splitter='best')"
      ]
     },
     "execution_count": 19,
     "metadata": {},
     "output_type": "execute_result"
    }
   ],
   "source": [
    "# учим модель\n",
    "model.fit(X, y)"
   ]
  },
  {
   "cell_type": "markdown",
   "metadata": {},
   "source": [
    "# И что с этим теперь делать?\n",
    "предсказывать цены на квартиры!"
   ]
  },
  {
   "cell_type": "code",
   "execution_count": 20,
   "metadata": {},
   "outputs": [
    {
     "data": {
      "text/html": [
       "<div>\n",
       "<style scoped>\n",
       "    .dataframe tbody tr th:only-of-type {\n",
       "        vertical-align: middle;\n",
       "    }\n",
       "\n",
       "    .dataframe tbody tr th {\n",
       "        vertical-align: top;\n",
       "    }\n",
       "\n",
       "    .dataframe thead th {\n",
       "        text-align: right;\n",
       "    }\n",
       "</style>\n",
       "<table border=\"1\" class=\"dataframe\">\n",
       "  <thead>\n",
       "    <tr style=\"text-align: right;\">\n",
       "      <th></th>\n",
       "      <th>totsp</th>\n",
       "      <th>livesp</th>\n",
       "      <th>kitsp</th>\n",
       "      <th>dist</th>\n",
       "      <th>metrdist</th>\n",
       "      <th>walk</th>\n",
       "      <th>brick</th>\n",
       "      <th>floor</th>\n",
       "      <th>code</th>\n",
       "    </tr>\n",
       "  </thead>\n",
       "  <tbody>\n",
       "    <tr>\n",
       "      <th>0</th>\n",
       "      <td>58</td>\n",
       "      <td>40</td>\n",
       "      <td>6.0</td>\n",
       "      <td>12.5</td>\n",
       "      <td>7</td>\n",
       "      <td>1</td>\n",
       "      <td>1</td>\n",
       "      <td>1</td>\n",
       "      <td>3</td>\n",
       "    </tr>\n",
       "    <tr>\n",
       "      <th>800</th>\n",
       "      <td>61</td>\n",
       "      <td>38</td>\n",
       "      <td>8.0</td>\n",
       "      <td>12.0</td>\n",
       "      <td>15</td>\n",
       "      <td>1</td>\n",
       "      <td>0</td>\n",
       "      <td>1</td>\n",
       "      <td>1</td>\n",
       "    </tr>\n",
       "  </tbody>\n",
       "</table>\n",
       "</div>"
      ],
      "text/plain": [
       "     totsp  livesp  kitsp  dist  metrdist  walk  brick  floor  code\n",
       "0       58      40    6.0  12.5         7     1      1      1     3\n",
       "800     61      38    8.0  12.0        15     1      0      1     1"
      ]
     },
     "execution_count": 20,
     "metadata": {},
     "output_type": "execute_result"
    }
   ],
   "source": [
    "# возьмем любую квартиру из данных, хоть две,\n",
    "# отберем нужные признаки\n",
    "\n",
    "flat = df.loc[[0, 800], ['totsp', 'livesp', 'kitsp', 'dist',\n",
    "                  'metrdist', 'walk', 'brick', 'floor', 'code']]\n",
    "flat"
   ]
  },
  {
   "cell_type": "code",
   "execution_count": 21,
   "metadata": {},
   "outputs": [
    {
     "data": {
      "text/plain": [
       "array([6.075, 7.35 ])"
      ]
     },
     "execution_count": 21,
     "metadata": {},
     "output_type": "execute_result"
    }
   ],
   "source": [
    "# применим модель\n",
    "\n",
    "predicted_price = model.predict(flat)\n",
    "predicted_price"
   ]
  },
  {
   "cell_type": "code",
   "execution_count": 22,
   "metadata": {},
   "outputs": [
    {
     "data": {
      "text/html": [
       "<div>\n",
       "<style scoped>\n",
       "    .dataframe tbody tr th:only-of-type {\n",
       "        vertical-align: middle;\n",
       "    }\n",
       "\n",
       "    .dataframe tbody tr th {\n",
       "        vertical-align: top;\n",
       "    }\n",
       "\n",
       "    .dataframe thead th {\n",
       "        text-align: right;\n",
       "    }\n",
       "</style>\n",
       "<table border=\"1\" class=\"dataframe\">\n",
       "  <thead>\n",
       "    <tr style=\"text-align: right;\">\n",
       "      <th></th>\n",
       "      <th>price_rur</th>\n",
       "    </tr>\n",
       "  </thead>\n",
       "  <tbody>\n",
       "    <tr>\n",
       "      <th>0</th>\n",
       "      <td>6.075</td>\n",
       "    </tr>\n",
       "    <tr>\n",
       "      <th>800</th>\n",
       "      <td>7.350</td>\n",
       "    </tr>\n",
       "  </tbody>\n",
       "</table>\n",
       "</div>"
      ],
      "text/plain": [
       "     price_rur\n",
       "0        6.075\n",
       "800      7.350"
      ]
     },
     "execution_count": 22,
     "metadata": {},
     "output_type": "execute_result"
    }
   ],
   "source": [
    "# а какая цена была на самом деле?\n",
    "\n",
    "real_price = df.loc[[0, 800], ['price_rur']]\n",
    "real_price"
   ]
  },
  {
   "cell_type": "markdown",
   "metadata": {},
   "source": [
    "# Простейшая оценка точности алгоритма\n",
    "\n",
    "Как формализовать понятие точности работы модели?\n",
    "\n",
    "Познакомимся с метрикой MAE (mean absolute error), средняя абсолютная ошибка. Она вычисляется следующим образом: \n",
    "\n",
    "$$ MAE = \\frac{1}{n}\\sum_{i=1}^{n} |y_i - \\hat{y}_i|. $$\n",
    "\n",
    "Если мы спрогнозировали, что квартира стоит 20 рублей, а она стоила 10 рублей, мы ошиблись на |10 - 20| = 10 рублей. Средняя абсолютная ошибка - это средняя сумма рублей, на которую мы ошиблись."
   ]
  },
  {
   "cell_type": "code",
   "execution_count": 23,
   "metadata": {},
   "outputs": [
    {
     "data": {
      "text/plain": [
       "13786.764705882357"
      ]
     },
     "execution_count": 23,
     "metadata": {},
     "output_type": "execute_result"
    }
   ],
   "source": [
    "from sklearn.metrics import mean_absolute_error\n",
    "\n",
    "predicted_price = model.predict(df[features_list])\n",
    "real_price = df['price_rur']\n",
    "error = mean_absolute_error(predicted_price, real_price)\n",
    "error*1_000_000"
   ]
  },
  {
   "cell_type": "markdown",
   "metadata": {},
   "source": [
    "Получается у нас модель в среднем ошибается на 13 тысяч?\n",
    "\n",
    "Как бы это правильно проверить?\n",
    "\n",
    "Давайте разбираться..."
   ]
  },
  {
   "cell_type": "markdown",
   "metadata": {},
   "source": [
    "# Валидация\n",
    "\n",
    "Валидация - это процесс оценки адекватности модели. Здесь мы проверим как модель ведет себя на ранее неизвестных данных\n",
    "\n",
    "Для этого поделим данные на тренировочные и тестовые:\n",
    "- $30\\%$ данных откладываем для тестирования качества модели\n",
    "- остальные $70\\%$ берём для обучения. "
   ]
  },
  {
   "cell_type": "code",
   "execution_count": 24,
   "metadata": {},
   "outputs": [],
   "source": [
    "# в библиотеке для моделирования идем в model_selection\n",
    "# там лежат разные методы для тестиоования моделей, достаем нужный\n",
    "from sklearn.model_selection import train_test_split\n",
    "\n",
    "df_train, df_test = train_test_split(df, test_size=0.3, random_state=1)"
   ]
  },
  {
   "cell_type": "code",
   "execution_count": 25,
   "metadata": {},
   "outputs": [
    {
     "name": "stdout",
     "output_type": "stream",
     "text": [
      "(1428, 12)\n",
      "(612, 12)\n"
     ]
    }
   ],
   "source": [
    "# Посмотрим на размеры трэйна и теста\n",
    "\n",
    "print(df_train.shape)\n",
    "print(df_test.shape)"
   ]
  },
  {
   "cell_type": "code",
   "execution_count": 26,
   "metadata": {},
   "outputs": [],
   "source": [
    "# Вытаскиваем цены и параметры квартир по разным переменным для удобства \n",
    "\n",
    "y_train = df_train['price_rur'] \n",
    "y_test = df_test['price_rur']\n",
    "\n",
    "X_train = df_train[features_list]\n",
    "X_test = df_test[features_list]"
   ]
  },
  {
   "cell_type": "code",
   "execution_count": 27,
   "metadata": {},
   "outputs": [
    {
     "data": {
      "text/plain": [
       "DecisionTreeRegressor(criterion='mse', max_depth=None, max_features=None,\n",
       "           max_leaf_nodes=None, min_impurity_decrease=0.0,\n",
       "           min_impurity_split=None, min_samples_leaf=1,\n",
       "           min_samples_split=2, min_weight_fraction_leaf=0.0,\n",
       "           presort=False, random_state=None, splitter='best')"
      ]
     },
     "execution_count": 27,
     "metadata": {},
     "output_type": "execute_result"
    }
   ],
   "source": [
    "# обучаем\n",
    "\n",
    "model.fit(X_train, y_train)"
   ]
  },
  {
   "cell_type": "code",
   "execution_count": 28,
   "metadata": {
    "scrolled": true
   },
   "outputs": [
    {
     "name": "stdout",
     "output_type": "stream",
     "text": [
      "В среднем дерево ошибается на 1.4 млн\n",
      "не так плохо при средней стоимости квартиры в 9.6 млн.\n"
     ]
    }
   ],
   "source": [
    "# проверяем точность на тестовых данных\n",
    "\n",
    "error = mean_absolute_error(model.predict(X_test), y_test)\n",
    "print(\"В среднем дерево ошибается на {:.2} млн\".format(error))\n",
    "print(\"не так плохо при средней стоимости квартиры в {:.2} млн.\".format(df.price_rur.mean()))"
   ]
  },
  {
   "cell_type": "markdown",
   "metadata": {},
   "source": [
    "Часто для нас принципиальным является не то, на сколько денег мы ошиблись, а то на сколько процентов мы ошиблись. Метрика, которая отлавливает процентную ошибку, называется MAPE (mean absolute percentage error), средняя абсолютная процентная ошибка. \n",
    "\n",
    "$$\n",
    "MAPE = \\frac{1}{n} \\sum_{i=1}^n \\frac{|y_i - \\hat{y}_i|}{y_i}\n",
    "$$\n",
    "\n",
    "Она часто применяется в следующих задачах: например, вы прогнозируете спрос, и вам принципиально, на сколько процентов вы ошиблись, а не абсолютное значение. Если вы предсказали  один, а в реальности было  десять - это не то же самое, что вы предсказали  тысяча, а в реальности было  тысяча  девять. С точки зрения МАЕ или MSE, это две совершенно одинаковые ошибки. А если вас интересует, сколько в среднем на сколько процентов вы ошибаетесь, то это отражает МАРЕ.\n",
    "\n",
    "Её нам придётся реальзовать самостоятельно. Благо, это не очень трудно. "
   ]
  },
  {
   "cell_type": "code",
   "execution_count": 29,
   "metadata": {},
   "outputs": [
    {
     "name": "stdout",
     "output_type": "stream",
     "text": [
      "Относительная ошибка = 13.64%\n"
     ]
    }
   ],
   "source": [
    "def mean_absolute_percentage_error(y_true, y_pred): \n",
    "    y_true, y_pred = np.array(y_true), np.array(y_pred)\n",
    "    return np.mean(np.abs((y_true - y_pred) / y_true)) * 100\n",
    "\n",
    "mape = mean_absolute_percentage_error(model.predict(X_test), y_test)\n",
    "print(\"Относительная ошибка = {:.4}%\".format(mape))"
   ]
  },
  {
   "cell_type": "markdown",
   "metadata": {},
   "source": [
    "# Посмотрим, что за модель мы получили"
   ]
  },
  {
   "cell_type": "code",
   "execution_count": 41,
   "metadata": {},
   "outputs": [
    {
     "data": {
      "text/html": [
       "<div>\n",
       "<style scoped>\n",
       "    .dataframe tbody tr th:only-of-type {\n",
       "        vertical-align: middle;\n",
       "    }\n",
       "\n",
       "    .dataframe tbody tr th {\n",
       "        vertical-align: top;\n",
       "    }\n",
       "\n",
       "    .dataframe thead th {\n",
       "        text-align: right;\n",
       "    }\n",
       "</style>\n",
       "<table border=\"1\" class=\"dataframe\">\n",
       "  <thead>\n",
       "    <tr style=\"text-align: right;\">\n",
       "      <th></th>\n",
       "      <th>Значимость признаков в модели</th>\n",
       "    </tr>\n",
       "  </thead>\n",
       "  <tbody>\n",
       "    <tr>\n",
       "      <th>totsp</th>\n",
       "      <td>0.536667</td>\n",
       "    </tr>\n",
       "    <tr>\n",
       "      <th>livesp</th>\n",
       "      <td>0.197953</td>\n",
       "    </tr>\n",
       "    <tr>\n",
       "      <th>dist</th>\n",
       "      <td>0.121238</td>\n",
       "    </tr>\n",
       "    <tr>\n",
       "      <th>metrdist</th>\n",
       "      <td>0.046834</td>\n",
       "    </tr>\n",
       "    <tr>\n",
       "      <th>code</th>\n",
       "      <td>0.039656</td>\n",
       "    </tr>\n",
       "    <tr>\n",
       "      <th>kitsp</th>\n",
       "      <td>0.031317</td>\n",
       "    </tr>\n",
       "    <tr>\n",
       "      <th>walk</th>\n",
       "      <td>0.011941</td>\n",
       "    </tr>\n",
       "    <tr>\n",
       "      <th>brick</th>\n",
       "      <td>0.008981</td>\n",
       "    </tr>\n",
       "    <tr>\n",
       "      <th>floor</th>\n",
       "      <td>0.005412</td>\n",
       "    </tr>\n",
       "  </tbody>\n",
       "</table>\n",
       "</div>"
      ],
      "text/plain": [
       "          Значимость признаков в модели\n",
       "totsp                          0.536667\n",
       "livesp                         0.197953\n",
       "dist                           0.121238\n",
       "metrdist                       0.046834\n",
       "code                           0.039656\n",
       "kitsp                          0.031317\n",
       "walk                           0.011941\n",
       "brick                          0.008981\n",
       "floor                          0.005412"
      ]
     },
     "execution_count": 41,
     "metadata": {},
     "output_type": "execute_result"
    }
   ],
   "source": [
    "pd.DataFrame(model.feature_importances_, index=features_list,\n",
    "             columns=['Значимость признаков в модели'])\\\n",
    ".sort_values('Значимость признаков в модели', ascending=False)"
   ]
  },
  {
   "cell_type": "markdown",
   "metadata": {},
   "source": [
    "# That's all, folks!"
   ]
  }
 ],
 "metadata": {
  "kernelspec": {
   "display_name": "Python 3",
   "language": "python",
   "name": "python3"
  },
  "language_info": {
   "codemirror_mode": {
    "name": "ipython",
    "version": 3
   },
   "file_extension": ".py",
   "mimetype": "text/x-python",
   "name": "python",
   "nbconvert_exporter": "python",
   "pygments_lexer": "ipython3",
   "version": "3.6.4"
  },
  "toc": {
   "base_numbering": 1,
   "nav_menu": {},
   "number_sections": false,
   "sideBar": true,
   "skip_h1_title": false,
   "title_cell": "Table of Contents",
   "title_sidebar": "Contents",
   "toc_cell": false,
   "toc_position": {
    "height": "calc(100% - 180px)",
    "left": "10px",
    "top": "150px",
    "width": "275.796875px"
   },
   "toc_section_display": true,
   "toc_window_display": true
  }
 },
 "nbformat": 4,
 "nbformat_minor": 2
}
