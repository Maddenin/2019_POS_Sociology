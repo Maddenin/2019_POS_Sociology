{
  "nbformat": 4,
  "nbformat_minor": 0,
  "metadata": {
    "colab": {
      "name": "RISO_trial",
      "provenance": [],
      "collapsed_sections": []
    },
    "kernelspec": {
      "name": "python3",
      "display_name": "Python 3"
    }
  },
  "cells": [
    {
      "cell_type": "markdown",
      "metadata": {
        "id": "1YOn6ekMK_go",
        "colab_type": "text"
      },
      "source": [
        "# Самостоятельная работа (пробный вариант)\n",
        "\n",
        "**Списывание и использование телефонов**\n",
        "\n",
        "Первое предупреждение, сделанное ассистентом или преподавателем: - 1 балл к вашей оценке. \n",
        "\n",
        "Второе предупреждение: работа аннулируется без права переписывания.\n",
        "\n",
        "**Все задачи должны принимать значения на ввод (решение для частного случая будет считаться неполным).**"
      ]
    },
    {
      "cell_type": "markdown",
      "metadata": {
        "id": "NiCOePb4LPt_",
        "colab_type": "text"
      },
      "source": [
        "*1*. **Тест (2 балла, каждый вопрос по 0,2 балла)**"
      ]
    },
    {
      "cell_type": "markdown",
      "metadata": {
        "id": "FhbxsfAeLg46",
        "colab_type": "text"
      },
      "source": [
        "1. В ячейку ниже вставьте значение в параметр sep, чтобы вывод программы выглядел следующим образом.\n",
        "\n",
        "1  \n",
        "The next number is 2  \n",
        "The next number is 3  \n",
        "The next number is 4  \n",
        "The next number is 5\n"
      ]
    },
    {
      "cell_type": "code",
      "metadata": {
        "id": "6SI2KJz1KyOu",
        "colab_type": "code",
        "outputId": "b3a5fdb4-b17c-4a8f-8b7c-6c05e964c16b",
        "colab": {
          "base_uri": "https://localhost:8080/",
          "height": 34
        }
      },
      "source": [
        "# вставьте нужное значение параметра sep\n",
        "print(1,2,3,4,5, sep=)"
      ],
      "execution_count": 0,
      "outputs": [
        {
          "output_type": "stream",
          "text": [
            "12345\n"
          ],
          "name": "stdout"
        }
      ]
    },
    {
      "cell_type": "markdown",
      "metadata": {
        "id": "fGO5PyC_NlDX",
        "colab_type": "text"
      },
      "source": [
        "2. Напишите программу, которая принимает на ввод число и выводит его число раз равное данному числу (в одной строке без пробелов)\n",
        "\n",
        "*Пример*  \n",
        "**Ввод**  \n",
        "2  \n",
        "**Вывод**  \n",
        "22  \n"
      ]
    },
    {
      "cell_type": "code",
      "metadata": {
        "id": "SSh-pIsvRyR7",
        "colab_type": "code",
        "colab": {}
      },
      "source": [
        "# ваше решение здесь"
      ],
      "execution_count": 0,
      "outputs": []
    },
    {
      "cell_type": "markdown",
      "metadata": {
        "id": "EBq1DpGiRa_m",
        "colab_type": "text"
      },
      "source": [
        "3.  \n",
        "\n",
        "x = True\n",
        "\n",
        "Какого типа переменная x:\n",
        "  1. string\n",
        "  2. bool\n",
        "  3. None\n",
        "  4. integer\n",
        "\n"
      ]
    },
    {
      "cell_type": "code",
      "metadata": {
        "id": "lkVBDgNPW57v",
        "colab_type": "code",
        "colab": {}
      },
      "source": [
        "# ваш ответ здесь"
      ],
      "execution_count": 0,
      "outputs": []
    },
    {
      "cell_type": "markdown",
      "metadata": {
        "id": "rioIS_oZd2d-",
        "colab_type": "text"
      },
      "source": [
        "4. Без каких элементов условная конструкция не работает:\n",
        "    1. Оператор elif, оператор else\n",
        "    2. Оператор if\n",
        "    3. Оператор if, оператор else, значение True/False\n",
        "    4. Оператор if, значение True/False"
      ]
    },
    {
      "cell_type": "code",
      "metadata": {
        "id": "ofi-C_5Om-sx",
        "colab_type": "code",
        "colab": {}
      },
      "source": [
        "# ваш ответ здесь"
      ],
      "execution_count": 0,
      "outputs": []
    },
    {
      "cell_type": "markdown",
      "metadata": {
        "id": "MfWYKPZdXCtf",
        "colab_type": "text"
      },
      "source": [
        "5. Переменная word имеет значение 'Encyclopedia'. В ячейку ниже вставьте нужные значения, чтобы вывод прогораммы  выглядел следующим образом:\n",
        "\n",
        "'cyclop'\n"
      ]
    },
    {
      "cell_type": "code",
      "metadata": {
        "id": "MqQCl9K8a2R9",
        "colab_type": "code",
        "colab": {}
      },
      "source": [
        "word = 'Encyclopedia'\n",
        "word[...]"
      ],
      "execution_count": 0,
      "outputs": []
    },
    {
      "cell_type": "markdown",
      "metadata": {
        "id": "sdRCtBLXbdh6",
        "colab_type": "text"
      },
      "source": [
        "6. Допишите код так, чтобы получился следующий вывод:\n",
        "\n",
        "True"
      ]
    },
    {
      "cell_type": "code",
      "metadata": {
        "id": "vms99nZebnt0",
        "colab_type": "code",
        "colab": {}
      },
      "source": [
        "'Python'.endswith(...)"
      ],
      "execution_count": 0,
      "outputs": []
    },
    {
      "cell_type": "markdown",
      "metadata": {
        "id": "PtKmNRK7bwwt",
        "colab_type": "text"
      },
      "source": [
        "7. Напечатайте кортеж, содержащий только четные числа из интервала от 532 до 675."
      ]
    },
    {
      "cell_type": "code",
      "metadata": {
        "id": "aNP2XrUSjR4m",
        "colab_type": "code",
        "colab": {}
      },
      "source": [
        "# ваш код здесь"
      ],
      "execution_count": 0,
      "outputs": []
    },
    {
      "cell_type": "markdown",
      "metadata": {
        "id": "syFJSq70V1pi",
        "colab_type": "text"
      },
      "source": [
        "8. Вам даны два списка. Выведите только те элементы списков, которые не являются для них общими.\n",
        "\n",
        "Используйте групповые операции над множествами "
      ]
    },
    {
      "cell_type": "code",
      "metadata": {
        "id": "juWm0T9npPTA",
        "colab_type": "code",
        "colab": {}
      },
      "source": [
        "list1 = [2, 3, 8, 7, 13, 67, 1, 7]\n",
        "list2 = [3, 3, 6, 8, 2, 1, 8, 5]\n",
        "# ваше решение здесь"
      ],
      "execution_count": 0,
      "outputs": []
    },
    {
      "cell_type": "markdown",
      "metadata": {
        "id": "p5PDF_gAmiCY",
        "colab_type": "text"
      },
      "source": [
        "9. Данные какого типа не могут быть ключом в словаре:\n",
        "  1. Кортежи\n",
        "  2. Числа\n",
        "  3. Списки\n",
        "  4. Строки\n",
        "  5. Множества\n",
        "  6. Словари"
      ]
    },
    {
      "cell_type": "code",
      "metadata": {
        "id": "_jPxPlpcmwyJ",
        "colab_type": "code",
        "colab": {}
      },
      "source": [
        "# ваш ответ здесь"
      ],
      "execution_count": 0,
      "outputs": []
    },
    {
      "cell_type": "markdown",
      "metadata": {
        "id": "xeeXmcZ1nll8",
        "colab_type": "text"
      },
      "source": [
        "10. Из словаря ниже удалите элемент 'Python'"
      ]
    },
    {
      "cell_type": "code",
      "metadata": {
        "id": "qCZLpmQ7nukM",
        "colab_type": "code",
        "colab": {}
      },
      "source": [
        "some_dict = {'Python' : 'хороший',\n",
        "             'R' : 'отличный',\n",
        "             'SQL' : 'прекрасный'}\n",
        "# ваше решение здесь"
      ],
      "execution_count": 0,
      "outputs": []
    },
    {
      "cell_type": "markdown",
      "metadata": {
        "id": "D_n7XZKhmEn6",
        "colab_type": "text"
      },
      "source": [
        "*2.* **Задача №1** Неделя 1. 1 балл"
      ]
    },
    {
      "cell_type": "markdown",
      "metadata": {
        "id": "JNpQTu2bmRk_",
        "colab_type": "text"
      },
      "source": [
        "Напишите программу, которая будет осуществлять перевод долларов в рубли. Программа принимает на ввод целое количество долларов и текущий курс доллара в рублях с копейками. Вывод в рублях и копейках отдельно. \n",
        "\n",
        "*Пример*\n",
        "\n",
        "**Ввод**\n",
        "\n",
        "65\n",
        "\n",
        "69.7\n",
        "\n",
        "**Вывод**\n",
        "\n",
        "\"$65 по курсу 69.70 рублей за доллар будут стоить 4530 руб. 50 коп.\"\n",
        "\n",
        "**Ввод**\n",
        "\n",
        "2 \n",
        "\n",
        "60\n",
        "\n",
        "**Вывод**\n",
        "\n",
        "\"$2 по курсу 60 рублей за доллар будут стоить 120 руб. 0 коп.\""
      ]
    },
    {
      "cell_type": "code",
      "metadata": {
        "id": "twp3-l7hG3y1",
        "colab_type": "code",
        "colab": {}
      },
      "source": [
        "# решение здесь"
      ],
      "execution_count": 0,
      "outputs": []
    },
    {
      "cell_type": "markdown",
      "metadata": {
        "id": "l-XGOkdgNHk6",
        "colab_type": "text"
      },
      "source": [
        "*3.* **Задача №2** Неделя 2. 1 балл\n",
        "\n",
        "В первый день спортсмен пробежал x километров, а затем он каждый день увеличивал пробег на 10% от предыдущего значения. По данному числу y определите номер дня, на который пробег спортсмена составит не менее y километров.\n",
        "\n",
        "Программа получает на вход действительные числа x и y и должна вывести одно натуральное число.\n",
        "\n",
        "*Пример*\n",
        "\n",
        "**Ввод**\n",
        "\n",
        "20\n",
        "\n",
        "22\n",
        "\n",
        "**Вывод**\n",
        "\n",
        "2\n",
        "\n",
        "**Ввод**\n",
        "\n",
        "5\n",
        "\n",
        "13\n",
        "\n",
        "**Вывод**\n",
        "\n",
        "12"
      ]
    },
    {
      "cell_type": "code",
      "metadata": {
        "id": "hY_9e4u7G06n",
        "colab_type": "code",
        "colab": {}
      },
      "source": [
        "# Решение здесь"
      ],
      "execution_count": 0,
      "outputs": []
    },
    {
      "cell_type": "markdown",
      "metadata": {
        "id": "BvSjAyefOvZ8",
        "colab_type": "text"
      },
      "source": [
        "*4.* **Задача №3**. Неделя 5. 1 балл\n",
        "\n",
        "Вам дан словарь, который содержит названия сезонов в качестве ключей и месяцы в качестве значений. Напишите программу, которая принимает на ввод номер месяца, а возвращает время года.\n",
        "\n",
        "*Пример*\n",
        "\n",
        "**Ввод**\n",
        "\n",
        "2\n",
        "\n",
        "Зима\n",
        "\n",
        "**Вывод**\n",
        "\n",
        "9 \n",
        "\n",
        "Осень"
      ]
    },
    {
      "cell_type": "code",
      "metadata": {
        "id": "HBsDPlE7Sy_l",
        "colab_type": "code",
        "colab": {}
      },
      "source": [
        "seasons = {\"Зима\" : [12, 1, 2],\n",
        "          \"Весна\" : [3, 4, 5],\n",
        "          \"Лето\" : [6, 7, 8], \n",
        "          \"Осень\" : [9, 10, 11]}\n"
      ],
      "execution_count": 0,
      "outputs": []
    },
    {
      "cell_type": "code",
      "metadata": {
        "id": "rzI8enZfG8Ob",
        "colab_type": "code",
        "colab": {}
      },
      "source": [
        "# ваше решение здесь"
      ],
      "execution_count": 0,
      "outputs": []
    },
    {
      "cell_type": "markdown",
      "metadata": {
        "id": "FNRKx0lHU7To",
        "colab_type": "text"
      },
      "source": [
        "*5* **Задача №4** Неделя 5. 2 балла\n",
        "\n",
        "Измените предыдущий словарь так, чтобы номера месяцев стали ключами, а времена года - значениями. Напечатайте отсортированные по ключам пары ключ-значение через дефис, каждая пара с новой строки.\n",
        "\n",
        "*Пример*\n",
        "\n",
        "**Вывод**\n",
        "\n",
        "1 - Зима  \n",
        "2 - Зима  \n",
        "3 - Весна  \n",
        "4 - Весна  \n",
        "5 - Весна  \n",
        "6 - Лето  \n",
        "7 - Лето  \n",
        "8 - Лето  \n",
        "9 - Осень  \n",
        "10 - Осень  \n",
        "11 - Осень   \n",
        "12 - Зима"
      ]
    },
    {
      "cell_type": "code",
      "metadata": {
        "id": "3NNQ5tVMZTtr",
        "colab_type": "code",
        "colab": {}
      },
      "source": [
        "seasons = {\"Зима\" : [12, 1, 2],\n",
        "          \"Весна\" : [3, 4, 5],\n",
        "          \"Лето\" : [6, 7, 8], \n",
        "          \"Осень\" : [9, 10, 11]}\n"
      ],
      "execution_count": 0,
      "outputs": []
    },
    {
      "cell_type": "code",
      "metadata": {
        "id": "bZhyiUNmG-MQ",
        "colab_type": "code",
        "colab": {}
      },
      "source": [
        "# ваше решение здесь"
      ],
      "execution_count": 0,
      "outputs": []
    },
    {
      "cell_type": "markdown",
      "metadata": {
        "id": "zq63t_xFZm87",
        "colab_type": "text"
      },
      "source": [
        "*6.* **Задача №5**. Неделя 5. 1 балл\n",
        "\n",
        "Группа из 3 студентов пишет заявки на желаемые факультативы из списка: английский, немецкий, право, математика, сольфеджио. Факультатив откроют, если на него запишутся все студенты. Каждый студент может выбрать минимум один и максимум три факультатива. Нужно посчитать количество факультативов, которые откроются.\n",
        "\n",
        "*Пример*\n",
        "\n",
        "**Ввод:**\n",
        "\n",
        "английский сольфеджио право\n",
        "\n",
        "математика сольфеджио\n",
        "\n",
        "немецкий право\n",
        "\n",
        "**Вывод:**\n",
        "\n",
        "0\n",
        "\n",
        "\n",
        "**Ввод:**\n",
        "\n",
        "математика немецкий право\n",
        "\n",
        "математика немецкий\n",
        "\n",
        "немецкий право математика \n",
        "\n",
        "**Вывод:**\n",
        "\n",
        "2"
      ]
    },
    {
      "cell_type": "code",
      "metadata": {
        "id": "xDNo4JNsbBFG",
        "colab_type": "code",
        "colab": {}
      },
      "source": [
        "# ваше решение здесь"
      ],
      "execution_count": 0,
      "outputs": []
    },
    {
      "cell_type": "markdown",
      "metadata": {
        "id": "ruxlkzXGbjBx",
        "colab_type": "text"
      },
      "source": [
        "*7.* **Задача №6** Неделя 4 (2 балла)\n",
        "\n",
        "В магазине \"Магнолия\" проходит акция - даются скидки на товары определенных категорий. У Маши есть список покупок, помогите ей посчитать траты на товар, которые она хочет купить.\n",
        "\n",
        "На ввод даются данные вида: товар - категория - количество - цена за штуку, разделенные дефисом с пробелами(' - '). \n",
        "Затем вводится 0\n",
        "Потом вводятся категории, на которые есть скидка в 15%, разделенные запятой.\n",
        "\n",
        "Количество товаров и категорий - неограничено.\n",
        "\n",
        "Посчитайте и выведите по образцу, сколько денег потратила бы Маша без скидок, сколько она потратит в итоге, и сколько составила экономия. Проверку наличия скидки реализуйте с помощью функции, которая возращает True, если на категорию товара сегодня есть скидка.\n",
        "\n",
        "*Пример*\n",
        "\n",
        "**Ввод**\n",
        "\n",
        "молоко - молочные продукты - 2 - 35\n",
        "\n",
        "хлеб - выпечка - 1 - 22\n",
        "\n",
        "творог - молочные продукты - 4 - 41\n",
        "\n",
        "вино - алкоголь - 1 - 453\n",
        "\n",
        "яблоки - фрукты - 2 - 70\n",
        "\n",
        "0\n",
        "\n",
        "алкоголь,выпечка\n",
        "\n",
        "**Вывод**\n",
        "\n",
        "Цена без скидки: 849 р.  \n",
        "Цена со скидкой: 777.75 р.  \n",
        "Скидка: 71.25 р. \n",
        "\n"
      ]
    },
    {
      "cell_type": "code",
      "metadata": {
        "id": "L_2ZiTQ9i8MP",
        "colab_type": "code",
        "colab": {}
      },
      "source": [
        "# ваше решение здесь"
      ],
      "execution_count": 0,
      "outputs": []
    },
    {
      "cell_type": "markdown",
      "metadata": {
        "id": "TnYCt1qajDPf",
        "colab_type": "text"
      },
      "source": [
        "*8* **Задача №7** Неделя 3. 1 балл\n",
        "\n",
        "Каждый год студентам необходимо поменять пароль в системе LMS. C нового года к паролю стали предъявлять новые требования. \n",
        "- Он должен быть длинее 10 символов \n",
        "- В нем должна быть одна заглавная буква, но все буквы не могут быть заглавными одновременно\n",
        "- В нем должна быть хотя бы одна цифра\n",
        "- Допустимы только латинские буквы\n",
        "\n",
        "Напишите функцию `checker()`, которая принимает на ввод гипотетический пароль и проверяет его на соответствие эти требованиям\n",
        "\n",
        "*Пример*\n",
        "\n",
        "**Ввод**\n",
        "\n",
        "checker('Taaaa1234555')\n",
        "\n",
        "**Вывод** \n",
        "\n",
        "True\n",
        "\n",
        "**Ввод**\n",
        "\n",
        "checker('qwerty12345')\n",
        "\n",
        "**Вывод**\n",
        "\n",
        "False\n"
      ]
    },
    {
      "cell_type": "code",
      "metadata": {
        "id": "SOTowDCkqTAv",
        "colab_type": "code",
        "colab": {}
      },
      "source": [
        ""
      ],
      "execution_count": 0,
      "outputs": []
    }
  ]
}